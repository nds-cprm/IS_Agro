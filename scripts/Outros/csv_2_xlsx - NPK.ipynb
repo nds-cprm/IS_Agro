{
 "cells": [
  {
   "cell_type": "code",
   "execution_count": 1,
   "metadata": {},
   "outputs": [],
   "source": [
    "import pandas as pd\n",
    "\n",
    "import os\n",
    "from glob import glob"
   ]
  },
  {
   "cell_type": "code",
   "execution_count": 2,
   "metadata": {},
   "outputs": [],
   "source": [
    "raiz = '/home/eduardo/repositorios/IS_Agro/databases'\n",
    "\n",
    "\n",
    "indice_uf = ['elemento', 'fonte', 'uf', 'UF-sigla', 'fluxo']\n",
    "indice_br = ['elemento', 'fonte', 'fluxo']\n",
    "indices = (indice_uf, indice_br)\n",
    "\n",
    "balancos = ('Balanço UF', 'Balanço BR')\n",
    "\n",
    "arquivos_csv = []\n",
    "arquivos_csv.extend(glob(os.path.join(raiz, 'ouro_npk_*.csv')))\n",
    "arquivos_csv.sort()\n",
    "\n",
    "fontes = (\n",
    "            'Carcaça Bovina',\n",
    "            'Dejetos Galináceos',\n",
    "            'Dejetos Suínos',\n",
    "            'Deposição Atmosférica',\n",
    "            'Fertilizante Orgânico vinhaça',\n",
    "            'Fertilizante Sintético',\n",
    "            'Fixação Bio N',\n",
    "            'Outras Produções Agrícolas',\n",
    "            'Princ. Produções Agrícolas',\n",
    "            'Sementes'\n",
    "          )"
   ]
  },
  {
   "cell_type": "code",
   "execution_count": 26,
   "metadata": {},
   "outputs": [],
   "source": [
    "with pd.ExcelWriter('/home/eduardo/Downloads/balanco_npk.xlsx', mode='w', engine=\"openpyxl\") as export:\n",
    "    for indice, balanco in zip(indices, balancos):\n",
    "        df_balanço = (pd.read_csv(f'{raiz}/ouro_npk-balanco.csv')\n",
    "                      .merge(pd.read_parquet(f'{raiz}/prata_geocodigo_ibge.parquet')\n",
    "                             .filter(['UF-id', 'UF-sigla']),\n",
    "                             how='left',\n",
    "                             left_on='uf',\n",
    "                             right_on='UF-id'\n",
    "                             )\n",
    "                      .pivot_table(\n",
    "                          index=indice,\n",
    "                          columns='ano',\n",
    "                          values='valor'\n",
    "                          )\n",
    "                      .sort_values(\n",
    "                          by=['elemento','fonte'],\n",
    "                          key=lambda x: x.map({'N': 0, 'P': 1, 'K': 2,\n",
    "                                            'Fertilizantes Sintéticos':0,\n",
    "                                            'Fertilizante orgânico vinhaça':1,\n",
    "                                            'Dejetos galináceos':2,\n",
    "                                            'Dejetos suínos':3,\n",
    "                                            'Fixação biológica de N':4,\n",
    "                                            'Sementes':5,\n",
    "                                            'Deposição Atmosférica':6,\n",
    "                                            'Principais produções agrícolas':7,\n",
    "                                            'Outras produções agrícolas':8,\n",
    "                                            'Carcaça Bovina':9})\n",
    "                                    )\n",
    "                    )\n",
    "        df_balanço.to_excel(export, sheet_name=balanco, float_format='%.4f')"
   ]
  },
  {
   "cell_type": "code",
   "execution_count": 27,
   "metadata": {},
   "outputs": [],
   "source": [
    "with pd.ExcelWriter('/home/eduardo/Downloads/balanco_npk.xlsx', mode='a', engine=\"openpyxl\", if_sheet_exists='replace') as export:\n",
    "    for arquivo, fonte in zip(arquivos_csv, fontes):\n",
    "        df = (pd.read_csv(arquivo)\n",
    "              .merge(pd.read_parquet(f'{raiz}/prata_geocodigo_ibge.parquet')\n",
    "                     .filter(['UF-id', 'UF-sigla']),\n",
    "                     how='left',\n",
    "                     left_on='uf',\n",
    "                     right_on='UF-id'\n",
    "                     )\n",
    "              .assign(valor=lambda v: v.valor/1000)\n",
    "              .pivot_table(\n",
    "                index=['uf', 'UF-sigla', 'elemento'],\n",
    "                columns='ano',\n",
    "                values='valor'\n",
    "                )\n",
    "            .reset_index()\n",
    "            .sort_values(by=['elemento', 'uf'],\n",
    "                        key=lambda x: x.map({'N': 0, 'P': 1, 'K': 2}))\n",
    "            .assign(fluxo=lambda x: 'Saída' if arquivo in (arquivos_csv[0], arquivos_csv[7], arquivos_csv[8]) else 'Entrada')\n",
    "            )\n",
    "        df.to_excel(export, sheet_name=fonte, float_format='%.4f', index=False)"
   ]
  }
 ],
 "metadata": {
  "kernelspec": {
   "display_name": "venv",
   "language": "python",
   "name": "python3"
  },
  "language_info": {
   "codemirror_mode": {
    "name": "ipython",
    "version": 3
   },
   "file_extension": ".py",
   "mimetype": "text/x-python",
   "name": "python",
   "nbconvert_exporter": "python",
   "pygments_lexer": "ipython3",
   "version": "3.10.12"
  }
 },
 "nbformat": 4,
 "nbformat_minor": 2
}
