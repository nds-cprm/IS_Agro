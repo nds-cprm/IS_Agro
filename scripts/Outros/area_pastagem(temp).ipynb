{
 "cells": [
  {
   "cell_type": "code",
   "execution_count": null,
   "metadata": {},
   "outputs": [],
   "source": [
    "import pandas as pd"
   ]
  },
  {
   "cell_type": "code",
   "execution_count": null,
   "metadata": {},
   "outputs": [],
   "source": [
    "raiz_db = '/home/eduardo/repositorios/IS_Agro/databases'\n",
    "raiz_R = '/home/eduardo/Documentos/R'\n",
    "\n",
    "planilha_agropecuaria = (pd.ExcelFile(f'{raiz_R}/Uso da Terra/outputs/extrapola_censo2017_MAPBIOMAS_V9-pastnat_2.1wet2.2grass.xlsx'))\n",
    "planilha_rev_censo2017 = (pd.ExcelFile(f'{raiz_R}/Uso da Terra/outputs/Rextrap_censo2017MapbiomasV9_br-pastnat_2.1wet2.2grass.xlsx'))"
   ]
  },
  {
   "cell_type": "code",
   "execution_count": null,
   "metadata": {},
   "outputs": [],
   "source": [
    "anos = (\n",
    "    pd.read_excel(planilha_agropecuaria, sheet_name=0, usecols='S:AI')\n",
    "    .columns\n",
    "    .to_list()\n",
    ")\n",
    "\n",
    "df_1 = (\n",
    "    pd.read_excel(planilha_agropecuaria,\n",
    "                  sheet_name=0,\n",
    "                  usecols='C, S:AI',\n",
    "                  skiprows=[21, 22, 23, 24]\n",
    "                  )\n",
    "    .drop(index=[0, 1, 2, 3, 4, 7, 8, 9, 13, 14, 15, 16, 17, 18, 19])\n",
    "    .melt(\n",
    "        id_vars='class_level_3',\n",
    "        value_vars=anos,\n",
    "        var_name='data',\n",
    "        value_name='area'\n",
    "        )\n",
    "    .rename(columns=\n",
    "        {\n",
    "            'class_level_3':'label'\n",
    "            })\n",
    "    .assign(data = lambda dt: pd.to_datetime(dt.data, format='%Y')) \n",
    "    .convert_dtypes()\n",
    ")"
   ]
  },
  {
   "cell_type": "code",
   "execution_count": null,
   "metadata": {},
   "outputs": [],
   "source": [
    "anos_extrapcenso = (\n",
    "    pd.read_excel(planilha_rev_censo2017, sheet_name=0, usecols='E:K')\n",
    "    .columns\n",
    "    .to_list()\n",
    ")\n",
    "\n",
    "df_2 = (\n",
    "    pd.read_excel(planilha_rev_censo2017, sheet_name=0, usecols='C, E:K')\n",
    "    .melt(\n",
    "        id_vars='cl_mapbiomas',\n",
    "        value_vars=anos_extrapcenso,\n",
    "        var_name='data',\n",
    "        value_name='area'\n",
    "    )\n",
    "    .rename(columns=\n",
    "        {\n",
    "            'cl_mapbiomas':'label'\n",
    "            })\n",
    "    .assign(data = lambda dt: pd.to_datetime(dt.data, format='%Y')) \n",
    "    .convert_dtypes()\n",
    ")"
   ]
  },
  {
   "cell_type": "code",
   "execution_count": null,
   "metadata": {},
   "outputs": [],
   "source": [
    "df_agropecuaria_final = (\n",
    "    pd.concat([df_1, df_2])\n",
    "    .reset_index(drop=True)\n",
    "    .assign(country=1)\n",
    "    .convert_dtypes()\n",
    "    .set_index(['country', 'data', 'label'])\n",
    ")"
   ]
  },
  {
   "cell_type": "code",
   "execution_count": null,
   "metadata": {},
   "outputs": [],
   "source": [
    "df_agropecuaria_final"
   ]
  }
 ],
 "metadata": {
  "kernelspec": {
   "display_name": "venv",
   "language": "python",
   "name": "python3"
  },
  "language_info": {
   "codemirror_mode": {
    "name": "ipython",
    "version": 3
   },
   "file_extension": ".py",
   "mimetype": "text/x-python",
   "name": "python",
   "nbconvert_exporter": "python",
   "pygments_lexer": "ipython3",
   "version": "3.12.3"
  }
 },
 "nbformat": 4,
 "nbformat_minor": 2
}
