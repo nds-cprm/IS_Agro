{
 "cells": [
  {
   "cell_type": "code",
   "execution_count": null,
   "metadata": {},
   "outputs": [],
   "source": [
    "import pandas as pd\n",
    "import numpy as np\n",
    "from scipy import interpolate"
   ]
  },
  {
   "cell_type": "code",
   "execution_count": null,
   "metadata": {},
   "outputs": [],
   "source": [
    "# Funções de reclassificação\n",
    "def reclass_MB(classe):\n",
    "    mapping = {\n",
    "        'Lavouras permanentes': '3.2.2. Perennial Crop',\n",
    "        'Lavouras - permanentes': '3.2.2. Perennial Crop',\n",
    "        'Lavouras temporárias': '3.2.1. Temporary Crop',\n",
    "        'Lavouras - temporárias': '3.2.1. Temporary Crop',\n",
    "        'Lavouras - área para cultivo de flores': '3.2.1. Temporary Crop',\n",
    "        'Pastagens - naturais': '2.1_2.2',\n",
    "        'Pastagens naturais': '2.1_2.2',\n",
    "        'Pastagens - plantadas em boas condições': '3.1. Pasture',\n",
    "        'Pastagens - pastagens plantadas em más condições': '3.1. Pasture',\n",
    "        'Pastagens plantadas': '3.1. Pasture',\n",
    "        'Sistemas agroflorestais - área cultivada com espécies florestais também usada para lavouras e pastoreio por animais': '3.1. Pasture'\n",
    "    }\n",
    "    return mapping.get(classe, None)\n",
    "\n",
    "def reclass_FAO(classe):\n",
    "    mapping = {\n",
    "        'Lavouras - permanentes': '6650 - Land under permanent crops',\n",
    "        'Lavouras permanentes': '6650 - Land under permanent crops',\n",
    "        'Lavouras - temporárias': '6621 - Arable land',\n",
    "        'Lavouras temporárias': '6621 - Arable land',\n",
    "        'Lavouras - área para cultivo de flores': '6621 - Arable land',\n",
    "        'Pastagens - naturais': '6659 - Perm. meadows & pastures - Nat. Growing',\n",
    "        'Pastagens naturais': '6659 - Perm. meadows & pastures - Nat. Growing',\n",
    "        'Pastagens - plantadas em boas condições': '6656 - Perm. meadows & pastures - Cultivated',\n",
    "        'Pastagens - pastagens plantadas em más condições': '6656 - Perm. meadows & pastures - Cultivated',\n",
    "        'Pastagens plantadas': '6656 - Perm. meadows & pastures - Cultivated',\n",
    "        'Sistemas agroflorestais - área cultivada com espécies florestais também usada para lavouras e pastoreio por animais': '6656 - Perm. meadows & pastures - Cultivated'\n",
    "    }\n",
    "    return mapping.get(classe, None)"
   ]
  },
  {
   "cell_type": "code",
   "execution_count": null,
   "metadata": {},
   "outputs": [],
   "source": [
    "# Anos para extrapolação\n",
    "seqano = [str(year) for year in range(2017, 2024)]\n",
    "\n",
    "# Leitura e processamento do censo 2017\n",
    "cbr = pd.read_csv('/home/eduardo/Documentos/R/Uso da Terra/inputs/tabela6881.csv', header=5, sep=';', nrows=12, usecols=[4, 5])\n",
    "cbr.columns = ['Utilização das terras', 'Total']\n",
    "\n",
    "# Verificar diferença entre total e soma das classes\n",
    "diff = cbr['Total'].iloc[0] - cbr['Total'].iloc[1:].sum()\n",
    "print(f\"Diferença entre total e soma das classes: {diff}\")\n",
    "\n",
    "# Reclassificação MapBiomas e FAO\n",
    "cbr['cl_mapbiomas'] = cbr['Utilização das terras'].apply(reclass_MB)\n",
    "cbr = cbr.dropna(subset=['cl_mapbiomas'])\n",
    "cbr['cl_fao'] = cbr['Utilização das terras'].apply(reclass_FAO)\n",
    "\n",
    "# Replicar valores para anos de extrapolação\n",
    "for ano in seqano:\n",
    "    cbr[ano] = cbr['Total']"
   ]
  },
  {
   "cell_type": "code",
   "execution_count": null,
   "metadata": {},
   "outputs": [],
   "source": [
    "# Leitura dados MapBiomas\n",
    "br2 = pd.read_excel('/home/eduardo/Documentos/R/Uso da Terra/outputs/COBERTURA_MAPBIOMAS_COL9_TM.xlsx', sheet_name='BRASIL2')\n",
    "br2.loc[br2['class_level_3'].isin(['2.1. Wetland', '2.2. Grassland']), 'class_level_3'] = '2.1_2.2'\n",
    "br2 = br2.groupby('class_level_3').sum()\n",
    "\n",
    "# Seleção classes do censo\n",
    "sbr2 = br2[br2.index.isin(cbr['cl_mapbiomas'].unique())]\n",
    "\n",
    "# Cálculo taxa de variação\n",
    "txbr2 = pd.DataFrame(index=sbr2.index)\n",
    "txbr2['class_level_3'] = txbr2.index\n",
    "for ano in seqano:\n",
    "    txbr2[ano] = sbr2[ano] / sbr2['2017']\n",
    "\n",
    "# Aplicando taxa aos dados do censo\n",
    "cbr2 = cbr.copy()\n",
    "for ano in seqano:\n",
    "    cbr2[ano] = cbr2[ano] * txbr2.loc[cbr2['cl_mapbiomas'].values][ano].values"
   ]
  },
  {
   "cell_type": "code",
   "execution_count": null,
   "metadata": {},
   "outputs": [],
   "source": [
    "# Consolidação classes FAO\n",
    "cbr3 = cbr2.groupby('cl_fao')[seqano].sum().reset_index()\n",
    "cbr3 = cbr3[cbr3['cl_fao'].notna()].iloc[:-1]  # Remove última linha conforme código original\n",
    "\n",
    "# Leitura dados históricos\n",
    "cbr_ant = pd.read_excel('/home/eduardo/Documentos/R/Uso da Terra/inputs/consolidado_censos.xlsx', sheet_name='tab_org_censos', skiprows=4)\n",
    "cbr_ant = cbr_ant.iloc[:, :-1]  # Remove última coluna conforme código original\n",
    "cbr_ant = cbr_ant.set_index(cbr_ant.columns[0]).T\n",
    "cbr_ant.index = cbr_ant.index.astype(str)\n",
    "\n",
    "# Reclassificação FAO para dados históricos\n",
    "cbr_ant['cl_fao'] = [reclass_FAO(idx) for idx in cbr_ant.index]\n",
    "cbr_ant = cbr_ant.dropna(subset=['cl_fao'])\n",
    "cbr_ant = cbr_ant.sort_values('cl_fao')\n",
    "cbr_ant.index = cbr_ant['cl_fao']"
   ]
  },
  {
   "cell_type": "code",
   "execution_count": null,
   "metadata": {},
   "outputs": [],
   "source": [
    "# Interpolação\n",
    "anos_hist = [1940, 1950, 1960, 1970, 1975, 1980, 1985, 1995, 2006, 2017]\n",
    "anos_interp = list(range(1940, 2018))\n",
    "fao_br = pd.DataFrame(index=cbr_ant['cl_fao'].unique())\n",
    "\n",
    "for classe in fao_br.index:\n",
    "    valores_hist = cbr_ant.loc[classe, ['1940', '1950', '1960', '1970', '1975', \n",
    "                                      '1980', '1985', '1995', '2006']].astype(float).values\n",
    "    valor_2017 = cbr3.loc[cbr3['cl_fao'] == classe, '2017'].values[0]\n",
    "    valores_hist = np.append(valores_hist, valor_2017)\n",
    "    \n",
    "    f = interpolate.interp1d(anos_hist, valores_hist)\n",
    "    fao_br.loc[classe, [str(ano) for ano in anos_interp]] = f(anos_interp)\n",
    "\n",
    "# Adicionar anos de extrapolação\n",
    "for ano in seqano[1:]:\n",
    "    fao_br[ano] = cbr3.set_index('cl_fao')[ano]"
   ]
  }
 ],
 "metadata": {
  "kernelspec": {
   "display_name": "venv",
   "language": "python",
   "name": "python3"
  },
  "language_info": {
   "codemirror_mode": {
    "name": "ipython",
    "version": 3
   },
   "file_extension": ".py",
   "mimetype": "text/x-python",
   "name": "python",
   "nbconvert_exporter": "python",
   "pygments_lexer": "ipython3",
   "version": "3.12.3"
  }
 },
 "nbformat": 4,
 "nbformat_minor": 2
}
