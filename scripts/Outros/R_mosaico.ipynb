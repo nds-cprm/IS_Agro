{
 "cells": [
  {
   "cell_type": "code",
   "execution_count": null,
   "metadata": {},
   "outputs": [],
   "source": [
    "import pandas as pd\n",
    "import numpy as np"
   ]
  },
  {
   "cell_type": "code",
   "execution_count": null,
   "metadata": {},
   "outputs": [],
   "source": [
    "d0 = pd.read_excel('/home/eduardo/repositorios/IS_Agro/databases/bronze_mapbiomas_brasil_col9_state_municipality.xlsx', sheet_name=1)\n",
    "d0['geocode'] = d0['geocode'].astype(str)"
   ]
  },
  {
   "cell_type": "markdown",
   "metadata": {},
   "source": [
    "## ChatGPT"
   ]
  },
  {
   "cell_type": "code",
   "execution_count": null,
   "metadata": {},
   "outputs": [],
   "source": [
    "# Anos\n",
    "seqano = [year for year in range(1985, 2023+1)]\n",
    "\n",
    "# Sigla\n",
    "d = d0.copy()\n",
    "d['state_acronym'] = d0['municipality - state'].str[-2:]\n",
    "\n",
    "# Seleção de colunas\n",
    "d = d[['geocode', 'municipality', 'municipality - state', 'state', 'class', 'state_acronym'] + seqano]"
   ]
  },
  {
   "cell_type": "code",
   "execution_count": null,
   "metadata": {},
   "outputs": [],
   "source": [
    "# Subconjunto para classe mosaico\n",
    "dm1 = d[d['class'] == 21].copy()\n",
    "dm1.set_index('geocode', inplace=True)\n",
    "\n",
    "# Subconjunto para pastagem, temporárias e perenes\n",
    "dm2 = d[d['class'].isin([15, 41, 48]) & d['geocode'].isin(dm1.index)].copy()"
   ]
  },
  {
   "cell_type": "code",
   "execution_count": null,
   "metadata": {},
   "outputs": [],
   "source": [
    "# Consolidando área total por município\n",
    "dm2s = dm2.groupby('geocode')[seqano].sum()\n",
    "\n",
    "frac1 = dm2[seqano].div(dm2s.loc[dm2['geocode']].values)"
   ]
  },
  {
   "cell_type": "code",
   "execution_count": null,
   "metadata": {},
   "outputs": [],
   "source": [
    "# Consolidando por estado\n",
    "dm3 = d.groupby(['state', 'state_acronym', 'class'])[seqano].sum().reset_index()\n",
    "dm3.set_index(dm3['state_acronym'] + '-' + dm3['class'].astype(str), inplace=True)\n",
    "\n",
    "dm4 = dm3.loc[dm2['state_acronym'] + '-' + dm2['class'].astype(str)].copy()\n",
    "dm4['geocode'] = dm2['geocode'].values\n",
    "\n",
    "dm4s = dm4.groupby('geocode')[seqano].sum()\n",
    "\n",
    "frac2 = dm4[seqano].div(dm4s.loc[dm4['geocode']].values)"
   ]
  },
  {
   "cell_type": "code",
   "execution_count": null,
   "metadata": {},
   "outputs": [],
   "source": [
    "# Reclassificação para mosaico\n",
    "frac = pd.DataFrame(np.where(dm2s.loc[dm2['geocode']].values != 0, frac1, frac2))\n",
    "\n",
    "dmtpp = dm2.copy()\n",
    "dmtpp[seqano] = dm1.loc[dm2['geocode'], seqano].values * frac.values\n",
    "dmtpp['class_level_2'] = 'Land Use Mosaic'"
   ]
  },
  {
   "cell_type": "code",
   "execution_count": null,
   "metadata": {},
   "outputs": [],
   "source": [
    "# IDs de municípios faltantes\n",
    "idsgeo = set(dm1.index) - set(dmtpp['geocode'])\n",
    "idsuf = dm1.loc[dm1.index.isin(idsgeo), 'state_acronym'].unique()\n",
    "idsmun = dm1.loc[dm1.index.isin(idsgeo), 'municipality'].unique()\n",
    "idsmuf = dm1.loc[dm1.index.isin(idsgeo), 'municipality - state'].unique()\n",
    "\n",
    "# Consolidação por estados faltantes\n",
    "dm5 = dm3[(dm3['state_acronym'].isin(idsuf)) & (dm3['class'].isin([15, 41, 48]))].convert_dtypes()\n",
    "dm5s = dm5.groupby(['state', 'state_acronym'])[seqano].sum()\n",
    "dm5s = dm5s.reset_index().set_index('state_acronym')\n",
    "\n",
    "dm5[seqano] = dm5[seqano].div(dm5s.loc[dm5['state_acronym']][seqano].values)\n",
    "idrs = [dm5.index.get_loc(x) for x in dm5.index if any(uf in x for uf in idsuf)]\n",
    "\n",
    "# Removendo ou tratando valores nulos antes de continuar\n",
    "idsgeo = [x for x in idsgeo if pd.notna(x)]\n",
    "idsmuf = [x for x in idsmuf if pd.notna(x)]\n",
    "idsmun = [x for x in idsmun if pd.notna(x)]\n",
    "\n",
    "dm6 = pd.concat([pd.DataFrame({\n",
    "    'geocode': list(idsgeo),  # Garantindo que é uma lista sem NaNs\n",
    "    'municipality - state': list(idsmuf),  # Garantindo que é uma lista sem NaNs\n",
    "    'municipality': list(idsmun)  # Garantindo que é uma lista sem NaNs\n",
    "}),\n",
    "dm5.iloc[idrs]], axis=1)\n",
    "\n",
    "# Remova as linhas onde 'geocode' é NaN\n",
    "print(dm6['geocode'].isna().sum())  # Conta a quantidade de NaNs na coluna geocode\n",
    "dm6_clean = dm6.dropna(subset=['geocode'])\n",
    "dm6_clean[seqano] = dm6_clean[seqano] * dm1.loc[dm6_clean['geocode'], seqano].values\n",
    "\n",
    "# Definir 'class_level_2'\n",
    "dm6_clean['class_level_2'] = 'Land Use Mosaic'"
   ]
  },
  {
   "cell_type": "code",
   "execution_count": null,
   "metadata": {},
   "outputs": [],
   "source": [
    "dm3[(dm3['state_acronym'].isin(idsuf)) & (dm3['class'].isin([15, 41, 48]))]"
   ]
  },
  {
   "cell_type": "markdown",
   "metadata": {},
   "source": [
    "## Claude"
   ]
  },
  {
   "cell_type": "code",
   "execution_count": null,
   "metadata": {},
   "outputs": [],
   "source": [
    "# Anos\n",
    "seqano = [year for year in range(1985, 2024)]\n",
    "\n",
    "# Sigla\n",
    "d = d0.copy()\n",
    "d['state_acronym'] = d0['municipality - state'].str[-2:]\n",
    "\n",
    "d = d[['geocode', 'municipality - state', 'municipality', 'state', 'state_acronym'] + list(d.columns[6:51])]"
   ]
  },
  {
   "cell_type": "code",
   "execution_count": null,
   "metadata": {},
   "outputs": [],
   "source": [
    "# Subconjunto para classe mosaico\n",
    "dm1 = d[d['class'] == 21]  # id 3.4. Mosaic of Uses\n",
    "dm1 = dm1.set_index('geocode')\n",
    "\n",
    "# Subconjunto para pastagem, temporárias e perenes\n",
    "dm2 = d[(d['class'].isin([15, 41, 48])) & (d['geocode'].isin(dm1.index))]\n",
    "dm2s = dm2.groupby('geocode')[seqano].sum().reset_index()\n",
    "dm2s = dm2s.set_index('geocode')\n",
    "\n",
    "frac1 = dm2[seqano].values / dm2s.loc[dm2['geocode'], seqano].values\n",
    "print(f\"NaN values in frac1: {np.isnan(frac1).sum()}\")"
   ]
  },
  {
   "cell_type": "code",
   "execution_count": null,
   "metadata": {},
   "outputs": [],
   "source": [
    " # Consolidando por estado\n",
    "dm3 = d.groupby(['state', 'state_acronym', 'class', 'class_level_0', 'class_level_1', 'class_level_2', 'class_level_3', 'class_level_4'])[seqano].sum().reset_index()\n",
    "dm3.index = dm3['state_acronym'] + '-' + dm3['class'].astype(str)\n",
    "\n",
    "dm4 = dm3.loc[dm2['state_acronym'] + '-' + dm2['class'].astype(str)]\n",
    "dm4['geocode'] = dm2['geocode'].values\n",
    "dm4s = dm4.groupby('geocode')[seqano].sum().reset_index()\n",
    "dm4s = dm4s.set_index('geocode')\n",
    "\n",
    "frac2 = dm4[seqano].values / dm4s.loc[dm4['geocode'], seqano].values\n",
    "print(f\"NaN values in frac2: {np.isnan(frac2).sum()}\")\n",
    "print(f\"Zero values in dm4s: {(dm4s == 0).sum().sum()}\")"
   ]
  },
  {
   "cell_type": "code",
   "execution_count": null,
   "metadata": {},
   "outputs": [],
   "source": [
    "dm4"
   ]
  },
  {
   "cell_type": "code",
   "execution_count": null,
   "metadata": {},
   "outputs": [],
   "source": [
    "frac = np.where(dm2s.loc[dm2['geocode'], seqano].values != 0, frac1, frac2)\n",
    "print(f\"NaN values in frac: {np.isnan(frac).sum()}\")\n",
    "\n",
    "dmtpp = dm2.copy()\n",
    "dmtpp[seqano] = dm1.loc[dm2['geocode'], seqano].values * frac\n",
    "dmtpp['class_level_2'] = 'Land Use Mosaic'"
   ]
  },
  {
   "cell_type": "code",
   "execution_count": null,
   "metadata": {},
   "outputs": [],
   "source": [
    "idsgeo = list(set(dm1.index) - set(dmtpp['geocode']))\n",
    "idsuf = dm1.loc[dm1.index.isin(idsgeo), 'state_acronym'].unique()\n",
    "idsmun = dm1.loc[dm1.index.isin(idsgeo), 'municipality'].unique()\n",
    "idsmuf = dm1.loc[dm1.index.isin(idsgeo), 'municipality - state'].unique()\n",
    "\n",
    "print(f\"Sum equality check: {np.allclose(dm1.loc[~dm1.index.isin(idsgeo), seqano].sum(), dmtpp[seqano].sum())}\")"
   ]
  },
  {
   "cell_type": "code",
   "execution_count": null,
   "metadata": {},
   "outputs": [],
   "source": [
    "dm5 = dm3[(dm3['state_acronym'].isin(idsuf)) & (dm3['class'].isin([15, 41, 48]))]\n",
    "dm5s = dm5.groupby(['state', 'state_acronym'])[seqano].sum().reset_index()\n",
    "dm5s = dm5s.set_index('state_acronym')\n",
    "\n",
    "dm5[seqano] = dm5[seqano].values / dm5s.loc[dm5['state_acronym'], seqano].values\n",
    "\n",
    "idrs = [i for uf in idsuf for i in dm5.index[dm5['state_acronym'] == uf]]"
   ]
  },
  {
   "cell_type": "code",
   "execution_count": null,
   "metadata": {},
   "outputs": [],
   "source": [
    "dm6 = pd.DataFrame({\n",
    "    'geocode': np.repeat(idsgeo, 3),\n",
    "    'municipality - state': np.repeat(idsmuf, 3),\n",
    "    'municipality': np.repeat(idsmun, 3)\n",
    "})\n",
    "dm6 = pd.concat([dm6, dm5.loc[idrs].reset_index(drop=True)], axis=1)\n",
    "dm6[seqano] = dm6[seqano].values * dm1.loc[dm6['geocode'], seqano].values\n",
    "dm6['class_level_2'] = 'Land Use Mosaic'\n",
    "\n",
    "print(f\"Sum difference check: {np.allclose(dm6[seqano].sum().round(6), dm1.loc[dm1['municipality'] == 'São Caetano do Sul', seqano].sum().round(6))}\")"
   ]
  },
  {
   "cell_type": "code",
   "execution_count": null,
   "metadata": {},
   "outputs": [],
   "source": [
    "dmtpp = pd.concat([dmtpp, dm6])\n",
    "\n",
    "print(f\"Final sum equality check: {np.allclose(dm1[seqano].sum(), dmtpp[seqano].sum())}\")"
   ]
  },
  {
   "cell_type": "code",
   "execution_count": null,
   "metadata": {},
   "outputs": [],
   "source": [
    "ds = pd.concat([d[d['class'] != 21], dmtpp])"
   ]
  },
  {
   "cell_type": "code",
   "execution_count": null,
   "metadata": {},
   "outputs": [],
   "source": [
    "# VERIFICAÇÕES\n",
    "print(f\"Sum equality checks:\")\n",
    "print(f\"d vs ds: {np.allclose(d[seqano].sum(), ds[seqano].sum())}\")\n",
    "print(f\"d vs d0: {np.allclose(d[seqano].sum().round(6), d0[seqano].sum().round(6))}\")\n",
    "print(f\"d0 vs ds: {np.allclose(d0[seqano].sum(), ds[seqano].sum())}\")\n",
    "\n",
    "print(f\"Subset sum equality checks:\")\n",
    "print(f\"d vs ds (excluding idsgeo): {np.allclose(d[~d['geocode'].isin(idsgeo)][seqano].sum(), ds[~ds['geocode'].isin(idsgeo)][seqano].sum())}\")\n",
    "print(f\"d0 vs ds (excluding idsgeo): {np.allclose(d0[~d0['geocode'].isin(idsgeo)][seqano].sum(), ds[~ds['geocode'].isin(idsgeo)][seqano].sum())}\")\n",
    "print(f\"d vs ds (all): {np.allclose(d[seqano].sum(), ds[seqano].sum())}\")\n",
    "print(f\"d0 vs d (all): {np.allclose(d0[seqano].sum(), d[seqano].sum())}\")\n",
    "print(f\"d0 vs ds (all, rounded): {np.allclose(d0[seqano].sum().round(6), ds[seqano].sum().round(6))}\")"
   ]
  },
  {
   "cell_type": "code",
   "execution_count": null,
   "metadata": {},
   "outputs": [],
   "source": [
    "tbr1 = ds.groupby(['class', 'class_level_0', 'class_level_1', 'class_level_2', 'class_level_3', 'class_level_4'])[seqano].sum().reset_index()\n",
    "tbr2 = ds.groupby(['class_level_0', 'class_level_1', 'class_level_3'])[seqano].sum().reset_index()\n",
    "\n",
    "ds2 = ds.groupby(['geocode', 'municipality - state', 'municipality', 'state', 'state_acronym', 'class_level_0', 'class_level_1', 'class_level_3'])[seqano].sum().reset_index()"
   ]
  },
  {
   "cell_type": "code",
   "execution_count": null,
   "metadata": {},
   "outputs": [],
   "source": [
    "ds.reset_index(drop=True)"
   ]
  },
  {
   "cell_type": "code",
   "execution_count": null,
   "metadata": {},
   "outputs": [],
   "source": [
    "ds2"
   ]
  }
 ],
 "metadata": {
  "kernelspec": {
   "display_name": "venv",
   "language": "python",
   "name": "python3"
  },
  "language_info": {
   "codemirror_mode": {
    "name": "ipython",
    "version": 3
   },
   "file_extension": ".py",
   "mimetype": "text/x-python",
   "name": "python",
   "nbconvert_exporter": "python",
   "pygments_lexer": "ipython3",
   "version": "3.12.3"
  }
 },
 "nbformat": 4,
 "nbformat_minor": 2
}
