{
 "cells": [
  {
   "cell_type": "code",
   "execution_count": 1,
   "metadata": {},
   "outputs": [],
   "source": [
    "# Importação de bibliotecas\n",
    "import pandas as pd"
   ]
  },
  {
   "cell_type": "code",
   "execution_count": 7,
   "metadata": {},
   "outputs": [],
   "source": [
    "# Variáveis utilizadas\n",
    "fonte = 'is_agro'\n",
    "dataset_name = 'usodaterra_agro'\n",
    "raiz = '/home/eduardo/repositorios/IS_Agro/databases'"
   ]
  },
  {
   "cell_type": "markdown",
   "metadata": {},
   "source": [
    "### Prata"
   ]
  },
  {
   "cell_type": "code",
   "execution_count": 8,
   "metadata": {},
   "outputs": [],
   "source": [
    "df = (\n",
    "    pd.read_excel(f'{raiz}/bronze_{fonte}_{dataset_name}_br.xlsx', header=1) # Arquivo gerado pela equipe da Embrapa de Campinas\n",
    "    .melt(\n",
    "        id_vars=['cod_mapbiomas', 'classes'],\n",
    "        var_name='data',\n",
    "        value_name='valor'\n",
    "    )\n",
    "    .assign(data = lambda dt: pd.to_datetime(dt.data, format='%Y'))\n",
    "    .convert_dtypes()\n",
    ")\n",
    "\n",
    "df.to_parquet(f'{raiz}/prata_{fonte}_{dataset_name}_br.parquet') # Exportação para a camada prata"
   ]
  },
  {
   "cell_type": "code",
   "execution_count": 4,
   "metadata": {},
   "outputs": [],
   "source": [
    "df_lavtemp = (\n",
    "    pd.read_csv(f'{raiz}/ouro_volume_agricola_lavouras_temporarias_uf.csv')\n",
    "    .groupby(['geocodigo', 'data'])\n",
    "    .agg({'valor': 'sum'})\n",
    "    .reset_index()\n",
    "    .assign(data = lambda dt: pd.to_datetime(dt.data, format='ISO8601'))\n",
    "    .convert_dtypes()\n",
    ")\n",
    "df_lavtemp_br = (\n",
    "    df_lavtemp\n",
    "    .groupby('data')\n",
    "    .agg({'valor': 'sum'})\n",
    "    .reset_index()\n",
    "    .assign(data = lambda dt: pd.to_datetime(dt.data, format='ISO8601'))\n",
    "    .convert_dtypes()\n",
    ")\n",
    "\n",
    "df_lavperene = (\n",
    "    pd.read_csv(f'{raiz}/ouro_volume_agricola_lavouras_permanentes_uf.csv')\n",
    "    .assign(data = lambda dt: pd.to_datetime(dt.data, format='ISO8601'))\n",
    "    .convert_dtypes()\n",
    ")\n",
    "df_lavperene_br = (\n",
    "    df_lavperene\n",
    "    .groupby('data')\n",
    "    .agg({'area': 'sum'})\n",
    "    .reset_index()\n",
    "    .assign(data = lambda dt: pd.to_datetime(dt.data, format='ISO8601'))\n",
    "    .convert_dtypes()\n",
    ")"
   ]
  },
  {
   "cell_type": "code",
   "execution_count": 5,
   "metadata": {},
   "outputs": [],
   "source": [
    "df_is_agro_lavtemp = (\n",
    "    df_lavtemp\n",
    "    .merge(\n",
    "        df_lavtemp_br,\n",
    "        how='left',\n",
    "        on='data',\n",
    "        suffixes=['_uf', '_br']\n",
    "    )\n",
    "    .merge(\n",
    "        df\n",
    "        .query('cod_mapbiomas == 19'),\n",
    "        how='left',\n",
    "        on='data'\n",
    "    )\n",
    "    .assign(value = lambda n: n.valor_uf * n.valor/n.valor_br)\n",
    "    .filter(['geocodigo', 'data', 'value'])\n",
    "    .convert_dtypes()\n",
    ")"
   ]
  },
  {
   "cell_type": "code",
   "execution_count": 6,
   "metadata": {},
   "outputs": [],
   "source": [
    "df_is_agro_lavperene = (\n",
    "    df_lavperene\n",
    "    .merge(\n",
    "        df_lavperene_br,\n",
    "        how='left',\n",
    "        on='data',\n",
    "        suffixes=['_uf', '_br']\n",
    "    )\n",
    "    .merge(\n",
    "        df\n",
    "        .query('cod_mapbiomas == 36'),\n",
    "        how='left',\n",
    "        on='data'\n",
    "    )\n",
    "    .assign(value = lambda n: n.area_uf * n.valor/n.area_br)\n",
    "    .filter(['geocodigo', 'data', 'value'])\n",
    "    .convert_dtypes()\n",
    ")"
   ]
  }
 ],
 "metadata": {
  "kernelspec": {
   "display_name": "venv",
   "language": "python",
   "name": "python3"
  },
  "language_info": {
   "codemirror_mode": {
    "name": "ipython",
    "version": 3
   },
   "file_extension": ".py",
   "mimetype": "text/x-python",
   "name": "python",
   "nbconvert_exporter": "python",
   "pygments_lexer": "ipython3",
   "version": "3.12.3"
  }
 },
 "nbformat": 4,
 "nbformat_minor": 2
}
