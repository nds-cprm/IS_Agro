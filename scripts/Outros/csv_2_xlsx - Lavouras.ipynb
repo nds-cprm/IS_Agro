{
 "cells": [
  {
   "cell_type": "code",
   "execution_count": 1,
   "metadata": {},
   "outputs": [],
   "source": [
    "import pandas as pd\n",
    "\n",
    "import os\n",
    "from glob import glob"
   ]
  },
  {
   "cell_type": "code",
   "execution_count": 2,
   "metadata": {},
   "outputs": [],
   "source": [
    "raiz = '/home/eduardo/repositorios/IS_Agro/databases'\n",
    "\n",
    "dataset = 'ouro_volume_agricola_lavouras'"
   ]
  },
  {
   "cell_type": "code",
   "execution_count": 3,
   "metadata": {},
   "outputs": [],
   "source": [
    "arquivos_csv = []\n",
    "arquivos_csv.extend(glob(os.path.join(raiz, 'ouro_volume_agricola_lavouras*.csv')))\n",
    "arquivos_csv.sort()\n",
    "\n",
    "tabelas = (\n",
    "    'Perm Culturas',\n",
    "    'Perm Municípios',\n",
    "    'Perm UF',\n",
    "    'Temp Culturas',\n",
    "    'Temp Municípios',\n",
    "    'Temp UF',\n",
    "    'Total-CF'\n",
    ")"
   ]
  },
  {
   "cell_type": "code",
   "execution_count": 4,
   "metadata": {},
   "outputs": [],
   "source": [
    "perm_munic = (arquivos_csv[0], arquivos_csv[1])\n",
    "tab_perm_munic = (tabelas[0], tabelas[1])\n",
    "\n",
    "temp_munic = (arquivos_csv[3], arquivos_csv[4])\n",
    "tab_temp_munic = (tabelas[3], tabelas[4])\n",
    "\n",
    "csv_uf = (arquivos_csv[2], arquivos_csv[5], arquivos_csv[6])\n",
    "tab_uf = (tabelas[2], tabelas[5], tabelas[6])"
   ]
  },
  {
   "cell_type": "code",
   "execution_count": 24,
   "metadata": {},
   "outputs": [],
   "source": [
    "with pd.ExcelWriter('/home/eduardo/Downloads/lavouras.xlsx', mode='w', engine=\"openpyxl\") as export:\n",
    "    for arquivo, tabela in zip(perm_munic, tab_perm_munic):\n",
    "        df = (pd.read_csv(arquivo)\n",
    "              .merge(pd.read_parquet(f'{raiz}/prata_ibge_geocodigo.parquet')\n",
    "                     .filter(['UF-id', 'UF-sigla', 'municipio-id', 'municipio-nome']),\n",
    "                     how='left',\n",
    "                     left_on='geocodigo',\n",
    "                     right_on='municipio-id'\n",
    "                    )\n",
    "        )\n",
    "\n",
    "        if 'cultura' in df.columns:\n",
    "              df = df.pivot_table(\n",
    "                       index=['UF-id','UF-sigla', 'municipio-id', 'municipio-nome', 'cultura'],\n",
    "                       columns='data',\n",
    "                       values='area'\n",
    "                       )\n",
    "        else:\n",
    "              df = df.pivot_table(\n",
    "                       index=['UF-id','UF-sigla', 'municipio-id', 'municipio-nome'],\n",
    "                       columns='data',\n",
    "                       values='area'\n",
    "                      )\n",
    "\n",
    "        df.reset_index().to_excel(export, sheet_name=tabela, index=False)\n",
    "    \n",
    "    \n",
    "    for arquivo, tabela in zip(temp_munic, tab_temp_munic):\n",
    "        df = (pd.read_csv(arquivo)\n",
    "              .merge(pd.read_parquet(f'{raiz}/prata_ibge_geocodigo.parquet')\n",
    "                     .filter(['UF-id', 'UF-sigla', 'municipio-id', 'municipio-nome']),\n",
    "                     how='left',\n",
    "                     left_on='geocodigo',\n",
    "                     right_on='municipio-id'\n",
    "                    )\n",
    "        )\n",
    "\n",
    "        if 'cultura' in df.columns:\n",
    "              df = df.pivot_table(\n",
    "                      index=['UF-id','UF-sigla', 'municipio-id', 'municipio-nome', 'cultura', 'safra'],\n",
    "                      columns='data',\n",
    "                      values='valor'\n",
    "                    )\n",
    "        else:\n",
    "              df = df.pivot_table(\n",
    "                      index=['UF-id','UF-sigla', 'municipio-id', 'municipio-nome', 'safra'],\n",
    "                      columns='data',\n",
    "                      values='valor'\n",
    "                    )\n",
    "\n",
    "        df.reset_index().to_excel(export, sheet_name=tabela, index=False)"
   ]
  },
  {
   "cell_type": "code",
   "execution_count": 26,
   "metadata": {},
   "outputs": [],
   "source": [
    "with pd.ExcelWriter('/home/eduardo/Downloads/lavouras.xlsx', mode='a', engine=\"openpyxl\", if_sheet_exists='replace') as export:\n",
    "    for arquivo, tabela in zip(csv_uf, tab_uf):\n",
    "        df = (pd.read_csv(arquivo)\n",
    "              .merge(pd.read_parquet(f'{raiz}/prata_ibge_geocodigo.parquet')\n",
    "                     .filter(['UF-id', 'UF-sigla']),\n",
    "                     how='left',\n",
    "                     left_on='geocodigo',\n",
    "                     right_on='UF-id'\n",
    "                    )\n",
    "        )\n",
    "\n",
    "        if 'area' in df.columns:\n",
    "              df = df.pivot_table(\n",
    "                  index=['UF-id','UF-sigla'],\n",
    "                  columns='data',\n",
    "                  values='area'\n",
    "                  )\n",
    "        elif 'safra' in df.columns:\n",
    "             df = df.pivot_table(\n",
    "                  index=['UF-id','UF-sigla', 'safra'],\n",
    "                  columns='data',\n",
    "                  values='valor'\n",
    "                  )\n",
    "        else:\n",
    "              df = df.pivot_table(\n",
    "                  index=['UF-id','UF-sigla'],\n",
    "                  columns='data',\n",
    "                  values=['valor', 'cf']\n",
    "                  )\n",
    "\n",
    "        df.reset_index().to_excel(export, sheet_name=tabela)"
   ]
  }
 ],
 "metadata": {
  "kernelspec": {
   "display_name": "venv",
   "language": "python",
   "name": "python3"
  },
  "language_info": {
   "codemirror_mode": {
    "name": "ipython",
    "version": 3
   },
   "file_extension": ".py",
   "mimetype": "text/x-python",
   "name": "python",
   "nbconvert_exporter": "python",
   "pygments_lexer": "ipython3",
   "version": "3.10.12"
  }
 },
 "nbformat": 4,
 "nbformat_minor": 2
}
