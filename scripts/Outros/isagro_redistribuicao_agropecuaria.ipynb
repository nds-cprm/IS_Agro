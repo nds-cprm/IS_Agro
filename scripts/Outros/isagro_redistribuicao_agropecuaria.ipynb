{
 "cells": [
  {
   "cell_type": "code",
   "execution_count": 1,
   "metadata": {},
   "outputs": [],
   "source": [
    "# Importação das bibliotecas necessárias\n",
    "import pandas as pd\n",
    "import numpy as np"
   ]
  },
  {
   "cell_type": "code",
   "execution_count": 2,
   "metadata": {},
   "outputs": [],
   "source": [
    "raiz = '/home/eduardo/repositorios/IS_Agro/databases'"
   ]
  },
  {
   "cell_type": "markdown",
   "metadata": {},
   "source": [
    "#### Valores Municipais"
   ]
  },
  {
   "cell_type": "code",
   "execution_count": 3,
   "metadata": {},
   "outputs": [],
   "source": [
    "# Filtragem inicial para classe de mosaico de usos\n",
    "df_munic_21 = (\n",
    "    pd.read_parquet(f'{raiz}/prata_mapbiomas_uso_terra_municipio.parquet')\n",
    "    .reset_index()\n",
    "    .query('classe == 21 & data >= 2000')\n",
    ")\n",
    "\n",
    "lista_21 = (\n",
    "    df_munic_21\n",
    "    .geocodigo.drop_duplicates()\n",
    "    .to_list()\n",
    ")"
   ]
  },
  {
   "cell_type": "code",
   "execution_count": 4,
   "metadata": {},
   "outputs": [],
   "source": [
    "df_munic = (\n",
    "    pd.read_parquet(f'{raiz}/prata_mapbiomas_uso_terra_municipio.parquet')\n",
    "    .reset_index()\n",
    "    .query('classe in (15, 41, 48) & data >= 2000 & geocodigo in @lista_21')\n",
    "    .assign(area = lambda n: pd.to_numeric(n.area, errors='coerce'))\n",
    "    .convert_dtypes()\n",
    "    .reset_index(drop=True)\n",
    ")"
   ]
  },
  {
   "cell_type": "code",
   "execution_count": 5,
   "metadata": {},
   "outputs": [],
   "source": [
    "df_munic_frac = (\n",
    "    df_munic\n",
    "    .assign(\n",
    "        area_total_mun=lambda df: df.groupby(['geocodigo', 'data'])['area']\n",
    "                                   .transform('sum'),\n",
    "        frac_mun=lambda df: (df.area / df.area_total_mun).where(df.area_total_mun != 0, df.area)\n",
    "    )\n",
    "    .drop(columns=['area', 'area_total_mun'])\n",
    ")"
   ]
  },
  {
   "cell_type": "markdown",
   "metadata": {},
   "source": [
    "#### Valores Estaduais"
   ]
  },
  {
   "cell_type": "code",
   "execution_count": 6,
   "metadata": {},
   "outputs": [],
   "source": [
    "# Cálculo das frações por UF direto dos dados municipais\n",
    "df_uf_frac = (\n",
    "    df_munic\n",
    "    .assign(\n",
    "        geocodigo_uf = lambda df: df.geocodigo // 100000,\n",
    "        area_total_uf = lambda df: df.groupby(['geocodigo_uf', 'data'])['area']\n",
    "                                  .transform('sum')\n",
    "    )\n",
    "    .assign(frac_uf = lambda df: df.area / df.area_total_uf)\n",
    "    .drop(columns=['area', 'area_total_uf'])\n",
    "    .filter(['geocodigo', 'geocodigo_uf', 'data', 'classe', 'frac_uf'])\n",
    ")"
   ]
  },
  {
   "cell_type": "markdown",
   "metadata": {},
   "source": [
    "#### Dados Restantes"
   ]
  },
  {
   "cell_type": "code",
   "execution_count": 7,
   "metadata": {},
   "outputs": [],
   "source": [
    "# Identificação dos municípios restantes (que têm classe 21 mas não têm as outras classes)\n",
    "municipios_restantes = list(set(lista_21) - set(df_munic_frac['geocodigo'].unique()))\n",
    "\n",
    "# Estados dos municípios restantes (que têm classe 21 mas não têm as outras classes)\n",
    "ufs_restantes = list(map(lambda x: int(str(x)[:2]), municipios_restantes))"
   ]
  },
  {
   "cell_type": "code",
   "execution_count": 8,
   "metadata": {},
   "outputs": [],
   "source": [
    "# Processamento das frações por UF para municípios restantes\n",
    "df_uf_rest_frac = (\n",
    "    df_munic\n",
    "    .assign(geocodigo_uf = lambda df: df.geocodigo // 100000)\n",
    "    .query('classe in (15, 41, 48) & geocodigo_uf in @ufs_restantes')\n",
    "    .assign(\n",
    "        area_total_uf=lambda df: df.groupby(['geocodigo_uf', 'data'])['area']\n",
    "                                  .transform('sum'),\n",
    "        frac_uf=lambda df: df['area'] / df['area_total_uf']\n",
    "    )\n",
    "    .drop(columns=['area', 'area_total_uf'])\n",
    "    .filter(['geocodigo_uf', 'data', 'classe', 'frac_uf'])\n",
    "    .reset_index(drop=True)\n",
    ")"
   ]
  },
  {
   "cell_type": "code",
   "execution_count": 9,
   "metadata": {},
   "outputs": [],
   "source": [
    "# Aplicação das frações para municípios restantes (usando apenas dados estaduais)\n",
    "df_resultado_restantes = (\n",
    "    df_munic_21\n",
    "    .query('geocodigo in @municipios_restantes')\n",
    "    .assign(geocodigo_uf = lambda df: df.geocodigo // 100000)\n",
    "    .merge(\n",
    "        df_uf_rest_frac,\n",
    "        on=['geocodigo_uf', 'data'],\n",
    "        how='left',\n",
    "        suffixes=['_x', '']\n",
    "    )\n",
    "    .assign(area_final = lambda df: df.area * df.frac_uf)\n",
    "    .drop(columns=['classe_x', 'area', 'frac_uf'])\n",
    "    .filter(['geocodigo', 'data', 'classe', 'area_final'])\n",
    ")"
   ]
  },
  {
   "cell_type": "markdown",
   "metadata": {},
   "source": [
    "#### Consolidação Principal"
   ]
  },
  {
   "cell_type": "code",
   "execution_count": 10,
   "metadata": {},
   "outputs": [],
   "source": [
    "# Aplicação das frações para municípios com dados municipais\n",
    "df_resultado_principais = (\n",
    "    df_munic_21\n",
    "    .query('geocodigo not in @municipios_restantes')\n",
    "    .merge(\n",
    "        df_munic_frac,\n",
    "        on=['geocodigo', 'data'],\n",
    "        how='left',\n",
    "        suffixes=['_x', '']\n",
    "    )\n",
    "    .merge(\n",
    "        df_uf_frac,\n",
    "        on=['geocodigo', 'data', 'classe'],\n",
    "        how='left'\n",
    "    )\n",
    "    .assign(\n",
    "        frac_final=lambda df: df.frac_mun.fillna(df.frac_uf).where(lambda x: x != 0, df.frac_uf),\n",
    "        area_final=lambda df: df.area * df.frac_final\n",
    "    )\n",
    "    .filter(['geocodigo', 'data', 'classe', 'area_final'])\n",
    ")"
   ]
  },
  {
   "cell_type": "code",
   "execution_count": 11,
   "metadata": {},
   "outputs": [],
   "source": [
    "# Combinação dos resultados\n",
    "df_resultado = (\n",
    "    pd.concat([\n",
    "    df_resultado_principais,\n",
    "    df_resultado_restantes\n",
    "])\n",
    "    .convert_dtypes()\n",
    "    .sort_values(['geocodigo', 'data'])\n",
    "    .reset_index(drop=True)\n",
    ")"
   ]
  },
  {
   "cell_type": "markdown",
   "metadata": {},
   "source": [
    "#### Nova tabela de uso da terra"
   ]
  },
  {
   "cell_type": "code",
   "execution_count": 19,
   "metadata": {},
   "outputs": [],
   "source": [
    "df_uso_terra = (\n",
    "    pd.read_parquet(f'{raiz}/prata_mapbiomas_uso_terra_municipio.parquet')\n",
    "    .reset_index()\n",
    "    .query('data >= 2000 & classe != 21')\n",
    "    .merge(\n",
    "        df_resultado,\n",
    "        on=['geocodigo', 'data', 'classe'],\n",
    "        how='left'\n",
    "    )\n",
    "    .assign(valor = lambda x: (x.area_final + x.area).where(x.area_final != np.nan, x.area))\n",
    "    .dropna(subset='valor')\n",
    "    .query('valor != 0')\n",
    "    .convert_dtypes()\n",
    "    .filter(['geocodigo', 'data', 'classe', 'valor'])\n",
    "    .reset_index(drop=True)\n",
    ")\n",
    "\n",
    "df_uso_terra.to_parquet(f'{raiz}/ouro_is_agro_usodaterra.parquet', index=False)"
   ]
  },
  {
   "cell_type": "code",
   "execution_count": 20,
   "metadata": {},
   "outputs": [],
   "source": [
    "df_br = (\n",
    "    df_uso_terra\n",
    "    .groupby(['data', 'classe'])\n",
    "    .agg({'valor': 'sum'})\n",
    ")\n",
    "\n",
    "df_br.to_parquet(f'{raiz}/ouro_is_agro_usodaterra_br.parquet')"
   ]
  }
 ],
 "metadata": {
  "kernelspec": {
   "display_name": "venv",
   "language": "python",
   "name": "python3"
  },
  "language_info": {
   "codemirror_mode": {
    "name": "ipython",
    "version": 3
   },
   "file_extension": ".py",
   "mimetype": "text/x-python",
   "name": "python",
   "nbconvert_exporter": "python",
   "pygments_lexer": "ipython3",
   "version": "3.12.3"
  }
 },
 "nbformat": 4,
 "nbformat_minor": 2
}
