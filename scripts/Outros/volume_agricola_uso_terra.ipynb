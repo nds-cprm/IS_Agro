{
 "cells": [
  {
   "cell_type": "code",
   "execution_count": 1,
   "metadata": {},
   "outputs": [],
   "source": [
    "# Importação de biblioteca\n",
    "import pandas as pd"
   ]
  },
  {
   "cell_type": "code",
   "execution_count": 2,
   "metadata": {},
   "outputs": [],
   "source": [
    "# Determinação de constantes\n",
    "raiz = '/home/eduardo/repositorios/IS_Agro/databases'\n",
    "\n",
    "dataset = 'ouro_volume_agricola_lavouras'"
   ]
  },
  {
   "cell_type": "markdown",
   "metadata": {},
   "source": [
    "### Ouro"
   ]
  },
  {
   "cell_type": "code",
   "execution_count": 3,
   "metadata": {},
   "outputs": [],
   "source": [
    "# Importação de dados de nível prata relativos a lavouras\n",
    "df_1612_consolidado_uf = pd.read_csv(f'{raiz}/{dataset}_temporarias_uf.csv')\n",
    "\n",
    "df_1613_consolidado_uf = pd.read_csv(f'{raiz}/{dataset}_permanentes_uf.csv')"
   ]
  },
  {
   "cell_type": "code",
   "execution_count": 4,
   "metadata": {},
   "outputs": [],
   "source": [
    "# Separação de dados de 1a. safra das culturas de ambos os tipos de lavouras\n",
    "lavoura_ps = (\n",
    "    df_1612_consolidado_uf\n",
    "    .filter(['geocodigo', 'data', 'safra'])\n",
    "    .loc[df_1612_consolidado_uf.safra == \"1a. safra\", :]\n",
    "    .reset_index(drop=True)\n",
    "    .assign(valor = df_1612_consolidado_uf.loc[df_1612_consolidado_uf.safra == \"1a. safra\", :]\n",
    "            .reset_index(drop=True).iloc[:,3] + df_1613_consolidado_uf.iloc[:,2])\n",
    "    .convert_dtypes()\n",
    ")"
   ]
  },
  {
   "cell_type": "code",
   "execution_count": 5,
   "metadata": {},
   "outputs": [],
   "source": [
    "# Separação de dados de 2a. safra das culturas (encontradas apenas em lavouras temporárias)\n",
    "lavoura_ss = (\n",
    "    df_1612_consolidado_uf\n",
    "    .loc[df_1612_consolidado_uf.safra == \"2a. safra\", :]\n",
    "    .reset_index(drop=True)\n",
    "    .convert_dtypes()\n",
    ")"
   ]
  },
  {
   "cell_type": "code",
   "execution_count": 6,
   "metadata": {},
   "outputs": [],
   "source": [
    "# Concatenação das tabelas de 1a. e 2a. safras\n",
    "lavoura_total = (pd.merge(\n",
    "                            lavoura_ps.drop(columns='safra'),\n",
    "                            lavoura_ss.drop(columns='safra'),\n",
    "                            how='left',\n",
    "                            on=['geocodigo', 'data'],\n",
    "                            suffixes=['_ps', '_ss']\n",
    "                            )\n",
    "                        .assign(valor=lambda df: df.apply(\n",
    "                            lambda x: x.valor_ps + x.valor_ss \n",
    "                            if pd.notna(x.valor_ps) and pd.notna(x.valor_ss) else\n",
    "                            x.valor_ps,\n",
    "                                axis = 1)) # Soma dos valores de safras\n",
    "                        .assign(cf=lambda df: df.apply(\n",
    "                            lambda x: x.valor / x.valor_ps,\n",
    "                            axis = 1)) # Divisão da soma das safras (descoberta acima) pelo valor da primeira safra\n",
    "                        .drop(columns=['valor_ps', 'valor_ss'])\n",
    "                        .convert_dtypes()\n",
    " )\n",
    "\n",
    "# Exportação final dos dados\n",
    "lavoura_total.to_csv(f'{raiz}/{dataset}_total.csv', index=False)"
   ]
  }
 ],
 "metadata": {
  "kernelspec": {
   "display_name": "venv",
   "language": "python",
   "name": "python3"
  },
  "language_info": {
   "codemirror_mode": {
    "name": "ipython",
    "version": 3
   },
   "file_extension": ".py",
   "mimetype": "text/x-python",
   "name": "python",
   "nbconvert_exporter": "python",
   "pygments_lexer": "ipython3",
   "version": "3.10.12"
  }
 },
 "nbformat": 4,
 "nbformat_minor": 2
}
