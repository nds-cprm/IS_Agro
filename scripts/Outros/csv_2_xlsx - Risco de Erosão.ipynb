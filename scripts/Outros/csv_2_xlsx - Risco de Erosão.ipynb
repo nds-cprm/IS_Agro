{
 "cells": [
  {
   "cell_type": "code",
   "execution_count": 13,
   "metadata": {},
   "outputs": [],
   "source": [
    "import pandas as pd\n",
    "\n",
    "import os\n",
    "from glob import glob"
   ]
  },
  {
   "cell_type": "code",
   "execution_count": 14,
   "metadata": {},
   "outputs": [],
   "source": [
    "raiz = '/home/eduardo/repositorios/IS_Agro/databases'\n",
    "export = '/home/eduardo/Downloads/risco_erosao.xlsx'"
   ]
  },
  {
   "cell_type": "code",
   "execution_count": 15,
   "metadata": {},
   "outputs": [],
   "source": [
    "arquivos_csv = []\n",
    "arquivos_csv.extend(glob(os.path.join(raiz, 'ouro_risco_erosao_*.csv')))\n",
    "arquivos_csv.sort()\n",
    "\n",
    "tabelas = (\n",
    "    'Lavouras Perenes',\n",
    "    'Lavouras Temporárias',\n",
    "    'Pastagem'\n",
    ")"
   ]
  },
  {
   "cell_type": "code",
   "execution_count": 16,
   "metadata": {},
   "outputs": [],
   "source": [
    "contador = 1\n",
    "\n",
    "for arquivo, tabela in zip (arquivos_csv, tabelas):\n",
    "    df = (\n",
    "        pd.read_csv(arquivo)\n",
    "        .groupby(['country', 'date', 'label'])\n",
    "        .agg({'value':'sum'})\n",
    "        .pivot_table(\n",
    "            index=['label'],\n",
    "            columns='date',\n",
    "            values='value'\n",
    "            )\n",
    "        .reset_index()\n",
    "    )\n",
    "    \n",
    "    if contador == 1:\n",
    "        df.to_excel(f'{export}', sheet_name=tabela, index=False)\n",
    "    else:\n",
    "        with pd.ExcelWriter(f'{export}', mode='a', engine='openpyxl', if_sheet_exists='replace') as planilha:\n",
    "            df.to_excel(planilha, sheet_name=tabela, index=False)\n",
    "    contador += 1"
   ]
  }
 ],
 "metadata": {
  "kernelspec": {
   "display_name": "venv",
   "language": "python",
   "name": "python3"
  },
  "language_info": {
   "codemirror_mode": {
    "name": "ipython",
    "version": 3
   },
   "file_extension": ".py",
   "mimetype": "text/x-python",
   "name": "python",
   "nbconvert_exporter": "python",
   "pygments_lexer": "ipython3",
   "version": "3.12.3"
  }
 },
 "nbformat": 4,
 "nbformat_minor": 2
}
