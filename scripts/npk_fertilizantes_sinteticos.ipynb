{
 "cells": [
  {
   "cell_type": "code",
   "execution_count": null,
   "metadata": {},
   "outputs": [],
   "source": [
    "%pip install googledriver"
   ]
  },
  {
   "cell_type": "code",
   "execution_count": null,
   "metadata": {},
   "outputs": [],
   "source": [
    "import pandas as pd\n",
    "\n",
    "import googledriver"
   ]
  },
  {
   "cell_type": "code",
   "execution_count": null,
   "metadata": {},
   "outputs": [],
   "source": [
    "dataset_name = 'fertilizantes_sinteticos'\n",
    "raiz = '../databases'"
   ]
  },
  {
   "cell_type": "markdown",
   "metadata": {},
   "source": [
    "### Bronze"
   ]
  },
  {
   "cell_type": "code",
   "execution_count": null,
   "metadata": {},
   "outputs": [],
   "source": [
    "# id_arquivo = '1dwglTy1GCPjTEZW1z7-Hb5_DQIwGmdHzOVBMw0FEIsg' # ID adquirida na URL\n",
    "id_arquivo = '1gIhcXrQ54qiBhM64tq1Lk8_2S_lIdiqKNBto907bcY4'\n",
    "extensao = 'xlsx' # Formato de exportação da planilha: xlsx, ods ou csv\n",
    "url_gdrive = f'https://docs.google.com/spreadsheets/d/{id_arquivo}/export?format={extensao}&t?gid=0#gid=0' # Endereço específico para exportação de dados planilhares\n",
    "# TODO: Não funciona muito bem\n",
    "\n",
    "saida = f'{raiz}/bronze_anda_{dataset_name}.{extensao}'\n",
    "\n",
    "googledriver.download(url_gdrive, saida, None)"
   ]
  },
  {
   "attachments": {},
   "cell_type": "markdown",
   "metadata": {},
   "source": [
    "### Prata"
   ]
  },
  {
   "cell_type": "markdown",
   "metadata": {},
   "source": [
    "NPK na forma de fertilizante sintético incorporado ao solo (t)"
   ]
  },
  {
   "cell_type": "code",
   "execution_count": null,
   "metadata": {},
   "outputs": [],
   "source": [
    "# Criação de dataframe vazio para uso posterior\n",
    "df_prata = pd.DataFrame()\n",
    "saida = f\"{raiz}/Dados_fertilizantes_minerais_ANDA_2000_atual.xlsx\"\n",
    "\n",
    "# Abas das tabelas na planilha bronze\n",
    "tabelas = pd.ExcelFile(saida, engine='openpyxl').sheet_names"
   ]
  },
  {
   "cell_type": "code",
   "execution_count": null,
   "metadata": {},
   "outputs": [],
   "source": [
    "df_prata = (\n",
    "    pd.concat([\n",
    "        pd.read_excel(\n",
    "            saida,\n",
    "            sheet_name=fertilizante,\n",
    "            header=2,\n",
    "            nrows=28,\n",
    "            na_values=pd.NA\n",
    "        )\n",
    "        .query('uf != \"Brasil\"')\n",
    "        .drop(columns='uf')\n",
    "        # .dropna(axis='columns', thresh=10)\n",
    "        .melt(\n",
    "            id_vars='geocodigo',\n",
    "            var_name='ano',\n",
    "            value_name='valor'\n",
    "        )\n",
    "        .assign(**{\n",
    "            'ano': lambda df: pd.to_datetime(df['ano'], format='%Y').dt.year, # Conversão de número inteiro para formato de data\n",
    "            'fonte': 'Fertilizantes sintéticos',\n",
    "            'elemento': fertilizante[len(fertilizante) - 1], # Criação de nova coluna de informação do que representa o dado\n",
    "        })\n",
    "        .rename(columns={'geocodigo': 'uf'})\n",
    "        # .dropna(subset='valor')\n",
    "        # .query('valor != 0') # Exclusão de registros que possuam valor zerado\n",
    "        .set_index(['uf', 'ano', 'fonte', 'elemento'])\n",
    "    for fertilizante in tabelas])\n",
    "    .sort_index()\n",
    ")\n",
    "\n",
    "df_prata.to_parquet(f'{raiz}/prata_anda_{dataset_name}.parquet')\n",
    "\n",
    "df_prata"
   ]
  },
  {
   "attachments": {},
   "cell_type": "markdown",
   "metadata": {},
   "source": [
    "# Ouro"
   ]
  },
  {
   "attachments": {},
   "cell_type": "markdown",
   "metadata": {},
   "source": [
    "## Elementos químicos na forma de fertilizante entregue ao mercado (t)\n",
    "\n",
    "### Parâmetros\n",
    "\n",
    "- Teor (%)\n",
    "\n",
    "### Cálculos:\n",
    "\n",
    "- Valor Estadual N * (Parâmetro N/100) * ((100 - fertilizantes_sinteticos)/100)\n",
    "\n",
    "- Valor Estadual P2o5 * (Parâmetro P)/100\n",
    "\n",
    "- Valor Estadual K2o * (Parâmetro K)/100\n",
    "\n",
    "\n",
    "Brasil = mil t"
   ]
  },
  {
   "cell_type": "code",
   "execution_count": null,
   "metadata": {},
   "outputs": [],
   "source": [
    "parametro_N = 100\n",
    "parametro_P = 43.7\n",
    "parametro_K = 83\n",
    "\n",
    "# Perdas por volatilização do N\n",
    "perdas_fertiliz_sintetico = 0"
   ]
  },
  {
   "cell_type": "code",
   "execution_count": null,
   "metadata": {},
   "outputs": [],
   "source": [
    "gold_df = (\n",
    "    pd.read_parquet(f'{raiz}/prata_anda_{dataset_name}.parquet')\n",
    "        .reset_index()\n",
    "        .assign(**{\n",
    "            'valor': lambda df: df.apply(\n",
    "                lambda linha: linha.valor*(parametro_N/100)*((100 - perdas_fertiliz_sintetico)/100) if linha.elemento == 'N'\n",
    "                                     else linha.valor*(parametro_P/100) if linha.elemento == 'P'\n",
    "                                     else linha.valor*(parametro_K/100),\n",
    "                axis = 1\n",
    "            )\n",
    "        })\n",
    "        .set_index(['uf', 'ano', 'fonte', 'elemento'])\n",
    "        .squeeze()\n",
    "    #     .replace({\n",
    "    #         'Fert_Sint_N': 'N',\n",
    "    #         'Fert_Sint_P': 'P',\n",
    "    #         'Fert_Sint_K': 'K'\n",
    "    #     })\n",
    "    #   .convert_dtypes()\n",
    "    )\n",
    "\n",
    "gold_df.to_csv(f'{raiz}/ouro_npk_{dataset_name}.csv')\n",
    "\n",
    "gold_df"
   ]
  },
  {
   "cell_type": "code",
   "execution_count": null,
   "metadata": {},
   "outputs": [],
   "source": [
    "(gold_df.to_json(\n",
    "    f'{raiz}/ouro_npk_{dataset_name}.json',\n",
    "    orient='records',\n",
    "    date_format='iso',\n",
    "    date_unit='s',\n",
    "    indent=4,\n",
    "    force_ascii=False\n",
    "            )\n",
    " )"
   ]
  }
 ],
 "metadata": {
  "kernelspec": {
   "display_name": "isagro (3.12.3)",
   "language": "python",
   "name": "python3"
  },
  "language_info": {
   "codemirror_mode": {
    "name": "ipython",
    "version": 3
   },
   "file_extension": ".py",
   "mimetype": "text/x-python",
   "name": "python",
   "nbconvert_exporter": "python",
   "pygments_lexer": "ipython3",
   "version": "3.12.3"
  },
  "orig_nbformat": 4
 },
 "nbformat": 4,
 "nbformat_minor": 2
}
