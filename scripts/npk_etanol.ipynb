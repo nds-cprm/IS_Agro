{
 "cells": [
  {
   "cell_type": "code",
   "execution_count": null,
   "metadata": {},
   "outputs": [],
   "source": [
    "import pandas as pd\n",
    "from slugify import slugify\n",
    "\n",
    "from pendulum import now"
   ]
  },
  {
   "cell_type": "code",
   "execution_count": null,
   "metadata": {},
   "outputs": [],
   "source": [
    "dataset_name = 'obscana_etanol'\n",
    "raiz = '../databases'"
   ]
  },
  {
   "attachments": {},
   "cell_type": "markdown",
   "metadata": {},
   "source": [
    "### Bronze"
   ]
  },
  {
   "cell_type": "code",
   "execution_count": null,
   "metadata": {},
   "outputs": [],
   "source": [
    "ano_inicio = 1990\n",
    "ano_fim = now().year - 1\n",
    "\n",
    "# ano_inicio = now().year - 2\n",
    "# ano_fim = now().year - 1\n",
    "\n",
    "url = f'https://observatoriodacana.com.br/historico-de-producao-e-moagem.php?idMn=31&tipoHistorico=2&acao=visualizar&idTabela=2492&produto=etanol_total&safraIni={ano_inicio}%2F{ano_inicio+1}&safraFim={ano_fim}%2F{ano_fim+1}&estado=RS%2CSC%2CPR%2CSP%2CRJ%2CMG%2CES%2CMS%2CMT%2CGO%2CDF%2CBA%2CSE%2CAL%2CPE%2CPB%2CRN%2CCE%2CPI%2CMA%2CTO%2CPA%2CAP%2CRO%2CAM%2CAC%2CRR'\n",
    "\n",
    "bronze_df = pd.read_html(f'{url}', thousands = \".\", decimal = \",\")[0]\n",
    "\n",
    "# bronze_df.to_html(f'{raiz}/bronze_{dataset_name}.html', index=False)\n",
    "bronze_df"
   ]
  },
  {
   "attachments": {},
   "cell_type": "markdown",
   "metadata": {},
   "source": [
    "### Prata"
   ]
  },
  {
   "cell_type": "code",
   "execution_count": null,
   "metadata": {},
   "outputs": [],
   "source": [
    "estados_df = (\n",
    "    pd.read_parquet(f'{raiz}/prata_geocodigo_ibge.parquet')\n",
    "        .filter(['UF-id', 'UF-nome'])\n",
    "        .drop_duplicates()\n",
    "        .set_index(\"UF-nome\")     \n",
    ")\n",
    "\n",
    "estados_df"
   ]
  },
  {
   "cell_type": "code",
   "execution_count": null,
   "metadata": {},
   "outputs": [],
   "source": [
    "anos_preditos = list(range(2020 + 1, ano_fim))\n",
    "\n",
    "dict(list(zip(anos_preditos, [\"série\"] * len(anos_preditos))))"
   ]
  },
  {
   "cell_type": "code",
   "execution_count": null,
   "metadata": {},
   "outputs": [],
   "source": [
    "silver_df = (\n",
    "    bronze_df\n",
    "        .query('not Estado.str.contains(\"Região.*|Brasil\", case=False)')    \n",
    "        .rename(columns=lambda col: col if col == 'Estado' else col[0:4]) # pegar o ano anterior\n",
    "        .assign(**{\n",
    "            \"2021\": lambda df: df[\"2020\"],\n",
    "            \"2022\": lambda df: df[\"2020\"],\n",
    "            \"2023\": lambda df: df[\"2020\"],\n",
    "            \"2024\": lambda df: df[\"2020\"],\n",
    "        })\n",
    "        # \n",
    "        .set_index(\"Estado\")\n",
    "        .join(estados_df)\n",
    "        .assign(**{\n",
    "            'fonte': 'Fertilizante orgânico vinhaça'\n",
    "        })\n",
    "        .set_index([\"UF-id\",'fonte'])\n",
    "        .stack()\n",
    "        .rename_axis([\"uf\", \"fonte\", \"ano\"], axis=\"rows\")\n",
    "        .reorder_levels([0, 2, 1])\n",
    "        .sort_index()\n",
    "        .rename(\"safra_mil_m3\")    \n",
    ")\n",
    "\n",
    "# silver_df.to_frame().to_parquet(f'{raiz}/prata_{dataset_name}.parquet')\n",
    "\n",
    "silver_df"
   ]
  },
  {
   "attachments": {},
   "cell_type": "markdown",
   "metadata": {},
   "source": [
    "### Ouro"
   ]
  },
  {
   "attachments": {},
   "cell_type": "markdown",
   "metadata": {},
   "source": [
    "Produção de Etanol ao todo por Estado (1000 m³)\n",
    "\n",
    "Parâmetros\n",
    "Teor (kg N/m³)\n",
    "\n",
    "Cálculo: ((produção estadual * producao)*(parametro_X))*(1000/1000)\n",
    "\n",
    "Brasil = mil t\n",
    "\n",
    "NPK na forma do fertilizante orgânico vinhaça incorporado ao solo (t)"
   ]
  },
  {
   "cell_type": "code",
   "execution_count": null,
   "metadata": {},
   "outputs": [],
   "source": [
    "producao = 11.5\n",
    "\n",
    "parametro_N = 0.433\n",
    "parametro_P = 0.034\n",
    "parametro_K = 2.206"
   ]
  },
  {
   "cell_type": "code",
   "execution_count": null,
   "metadata": {},
   "outputs": [],
   "source": [
    "gold_df = (\n",
    "    # pd.read_parquet(f'{raiz}/prata_{dataset_name}.parquet')\n",
    "    silver_df.to_frame()\n",
    "        .assign(\n",
    "            vinhaca = lambda df: df['safra_mil_m3'] * producao\n",
    "        )\n",
    "        .assign(**{\n",
    "            'N': lambda df: (df['vinhaca'] * parametro_N), # *(1000/1000),\n",
    "            'P': lambda df: (df['vinhaca'] * parametro_P), # *(1000/1000),\n",
    "            'K': lambda df: (df['vinhaca'] * parametro_K), # *(1000/1000)\n",
    "        })\n",
    "        .reset_index()\n",
    "        .melt(\n",
    "            id_vars=['uf', 'ano', 'fonte'],\n",
    "            value_vars=['N', 'P', 'K'],\n",
    "            var_name='elemento',\n",
    "            value_name='valor'\n",
    "        )\n",
    "        .set_index(['uf', 'ano', 'fonte', 'elemento'])\n",
    "        .sort_index()\n",
    "        .squeeze()\n",
    ")\n",
    "\n",
    "gold_df.to_csv(f'{raiz}/ouro_npk_fert_organico_vinhaca.csv')\n",
    "gold_df"
   ]
  }
 ],
 "metadata": {
  "kernelspec": {
   "display_name": "isagro (3.12.3)",
   "language": "python",
   "name": "python3"
  },
  "language_info": {
   "codemirror_mode": {
    "name": "ipython",
    "version": 3
   },
   "file_extension": ".py",
   "mimetype": "text/x-python",
   "name": "python",
   "nbconvert_exporter": "python",
   "pygments_lexer": "ipython3",
   "version": "3.12.3"
  },
  "orig_nbformat": 4
 },
 "nbformat": 4,
 "nbformat_minor": 2
}
