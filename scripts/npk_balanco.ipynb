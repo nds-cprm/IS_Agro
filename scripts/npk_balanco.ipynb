{
 "cells": [
  {
   "cell_type": "code",
   "execution_count": null,
   "metadata": {},
   "outputs": [],
   "source": [
    "import pandas as pd\n",
    "import os\n",
    "from glob import glob"
   ]
  },
  {
   "cell_type": "code",
   "execution_count": null,
   "metadata": {},
   "outputs": [],
   "source": [
    "raiz = '../databases'\n",
    "\n",
    "arquivos_csv = []\n",
    "arquivos_csv.extend(glob(os.path.join(raiz, 'ouro_npk_*.csv')))\n",
    "arquivos_csv.sort()\n",
    "\n",
    "df_balanco = pd.DataFrame()\n",
    "\n",
    "fontes = ('Carcaça Bovina',\n",
    "          'Dejetos Galináceos',\n",
    "          'Dejetos Suínos',\n",
    "          'Deposição Atmosférica',\n",
    "          'Fertilizante orgânico vinhaça',\n",
    "          'Fertilizante Sintético',\n",
    "          'Fixação Bio N',\n",
    "          'Outras Produções Agrícolas',\n",
    "          'Principais Produções Agrícolas',\n",
    "          'Sementes'\n",
    "          )"
   ]
  },
  {
   "cell_type": "code",
   "execution_count": null,
   "metadata": {},
   "outputs": [],
   "source": [
    "arquivos_csv"
   ]
  },
  {
   "cell_type": "code",
   "execution_count": null,
   "metadata": {},
   "outputs": [],
   "source": [
    "df_balanco = pd.DataFrame()\n",
    "\n",
    "df = (\n",
    "    pd.concat([\n",
    "        pd.read_csv(arquivo)\n",
    "          .assign(valor=lambda v: v.valor/1000,\n",
    "                  fluxo=lambda x: 'Saída' if arquivo in (arquivos_csv[0], arquivos_csv[7], arquivos_csv[8]) else 'Entrada')\n",
    "        for arquivo in arquivos_csv]\n",
    "        #for arquivo, fonte in zip(arquivos_csv, fontes)]\n",
    "    )\n",
    "    .query('uf != 1')\n",
    "    .sort_values(\n",
    "        by=['fonte', 'ano', 'uf', 'elemento', 'fluxo'],\n",
    "        key=lambda x: x.map({\n",
    "            'Fertilizantes Sintéticos': 0,\n",
    "            'Fertilizante orgânico vinhaça': 1,\n",
    "            'Dejetos galináceos': 2,\n",
    "            'Dejetos suínos': 3,\n",
    "            'Fixação biológica de N': 4,\n",
    "            'Sementes': 5,\n",
    "            'Deposição Atmosférica': 6,\n",
    "            'Principais produções agrícolas': 7,\n",
    "            'Outras produções agrícolas': 8,\n",
    "            'Carcaça Bovina': 9\n",
    "        })\n",
    "    )\n",
    "    .set_index(['uf', 'ano', 'fluxo', 'fonte', 'elemento'])\n",
    "    .squeeze()\n",
    "    .rename(\"valor_mt\")\n",
    ")\n",
    "\n",
    "df.to_frame().to_parquet(f'{raiz}/ouro_npk-balanco.parquet')\n",
    "\n",
    "df"
   ]
  },
  {
   "cell_type": "code",
   "execution_count": null,
   "metadata": {},
   "outputs": [],
   "source": [
    "# df_balanco = (df_balanco.groupby(['uf', 'ano'])\n",
    "#     [['fonte', 'elemento', 'valor', 'fluxo']]\n",
    "#     .apply(lambda x: x)\n",
    "#     .sort_values(\n",
    "#         by=['elemento', 'uf'],\n",
    "#         key=lambda x: x.map({'N': 0, 'P': 1, 'K': 2})\n",
    "#         )\n",
    "#         .reset_index()\n",
    "#         .drop('level_2', axis='columns')\n",
    "#         .convert_dtypes()\n",
    "#                 )\n",
    "\n",
    "# df_balanco.to_csv(f'{raiz}/ouro_npk-balanco.csv', index=False)"
   ]
  }
 ],
 "metadata": {
  "kernelspec": {
   "display_name": "isagro (3.12.3)",
   "language": "python",
   "name": "python3"
  },
  "language_info": {
   "codemirror_mode": {
    "name": "ipython",
    "version": 3
   },
   "file_extension": ".py",
   "mimetype": "text/x-python",
   "name": "python",
   "nbconvert_exporter": "python",
   "pygments_lexer": "ipython3",
   "version": "3.12.3"
  }
 },
 "nbformat": 4,
 "nbformat_minor": 2
}
