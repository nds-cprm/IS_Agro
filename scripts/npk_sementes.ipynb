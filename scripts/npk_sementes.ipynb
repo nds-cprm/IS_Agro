{
 "cells": [
  {
   "cell_type": "code",
   "execution_count": null,
   "metadata": {},
   "outputs": [],
   "source": [
    "import pandas as pd\n",
    "\n",
    "from pendulum import now"
   ]
  },
  {
   "cell_type": "code",
   "execution_count": null,
   "metadata": {},
   "outputs": [],
   "source": [
    "dataset_name = 'sidra_tab5457_sementes'\n",
    "raiz = '../databases'"
   ]
  },
  {
   "cell_type": "markdown",
   "metadata": {},
   "source": [
    "Área de colheita/plantada (ha)"
   ]
  },
  {
   "cell_type": "markdown",
   "metadata": {},
   "source": [
    "### Bronze"
   ]
  },
  {
   "cell_type": "code",
   "execution_count": null,
   "metadata": {},
   "outputs": [],
   "source": [
    "contador = 1\n",
    "ano_inicial = 1990\n",
    "\n",
    "ultimo_ano = now().year - 1\n",
    "for ano in range(ano_inicial, ultimo_ano):\n",
    "    if contador == 1:\n",
    "        df_5457 = pd.read_json(f'https://apisidra.ibge.gov.br/values/t/5457/n6/all/v/216/p/{ano}/c782/40102,40106,40112,40119,40122,40124,40127')\n",
    "        contador += 1\n",
    "    else:\n",
    "        df_5457 = pd.concat(\n",
    "            [df_5457,\n",
    "            (pd.read_json(f'https://apisidra.ibge.gov.br/values/t/5457/n6/all/v/216/p/{ano}/c782/40102,40106,40112,40119,40122,40124,40127')\n",
    "             .iloc[1:])],\n",
    "            ignore_index=True            \n",
    "        )\n",
    "        contador += 1\n",
    "\n",
    "df_5457.to_json(f'{raiz}/bronze_{dataset_name}.json')\n",
    "print(f'Foram contabilizadas {contador} repetições.')"
   ]
  },
  {
   "cell_type": "markdown",
   "metadata": {},
   "source": [
    "### Prata"
   ]
  },
  {
   "cell_type": "code",
   "execution_count": null,
   "metadata": {},
   "outputs": [],
   "source": [
    "(pd.read_json(f'{raiz}/bronze_{dataset_name}.json')\n",
    " .drop(0, axis = 0)\n",
    " .filter(['D1C', 'D3C', 'D4C', 'V'])\n",
    " .assign(**{\n",
    "        'uf': lambda df: df['D1C'].str.slice(0,2).astype(int),\n",
    "        'hectare': lambda df: pd.to_numeric(df['V'], errors='coerce'),\n",
    "        'municipio': lambda df: df['D1C'].astype(int),\n",
    "        'ano': lambda df: df['D3C'].astype(int),\n",
    "        'cultura': lambda df: df['D4C'].astype(int),\n",
    "        'fonte': 'Sementes'\n",
    "        })\n",
    " .dropna(subset='hectare')\n",
    " .convert_dtypes()\n",
    " .groupby(['uf', 'municipio', 'ano', 'cultura', 'fonte'])\n",
    " .agg({'hectare': 'sum'})\n",
    " .to_parquet(f'{raiz}/prata_{dataset_name}.parquet')\n",
    " )"
   ]
  },
  {
   "cell_type": "markdown",
   "metadata": {},
   "source": [
    "### Ouro"
   ]
  },
  {
   "cell_type": "markdown",
   "metadata": {},
   "source": [
    "Quantidade de sementes/mudas utilizadas por área para a plantação das principais culturas agrícolas do país.\n",
    "\n",
    "((Área * Quantidade_Sementes_ha)/1000) * (Teor N,P,K/1000)"
   ]
  },
  {
   "cell_type": "code",
   "execution_count": null,
   "metadata": {},
   "outputs": [],
   "source": [
    "parametro = {\n",
    "    40102: {'semente_ha': 160, 'n': 13, 'p': 2.9, 'k': 3}, # Arroz\n",
    "    40106: {'semente_ha': 12500, 'n': 1, 'p': 0.3, 'k': 1.5}, # Cana-de-açúcar\n",
    "    40112: {'semente_ha': 45, 'n': 50, 'p': 5.7, 'k': 12.5}, # Feijão\n",
    "    40119: {'semente_ha': 750, 'n': 2.1, 'p': 0.2, 'k': 2}, # Mandioca\n",
    "    40122: {'semente_ha': 23, 'n': 12, 'p': 2.7, 'k': 3.7}, # Milho\n",
    "    40124: {'semente_ha': 70, 'n': 55, 'p': 5.2, 'k': 16.6}, # Soja\n",
    "    40127: {'semente_ha': 120, 'n': 21, 'p': 4.1, 'k': 4.6}, # Trigo\n",
    "}"
   ]
  },
  {
   "cell_type": "code",
   "execution_count": null,
   "metadata": {},
   "outputs": [],
   "source": [
    "df = (\n",
    "    pd.read_parquet(f'{raiz}/prata_{dataset_name}.parquet')\n",
    "        .groupby(['uf', 'ano', 'cultura', 'fonte'])\n",
    "        .agg({'hectare': 'sum'})\n",
    "        .reset_index()\n",
    "        .assign(**{\n",
    "            'N': lambda df: df.apply(lambda lin: ((lin['hectare']*parametro[lin['cultura']]['semente_ha'])/1000) * (parametro[lin['cultura']]['n']/1000), axis = 1),\n",
    "            'P': lambda df: df.apply(lambda lin: ((lin['hectare']*parametro[lin['cultura']]['semente_ha'])/1000) * (parametro[lin['cultura']]['p']/1000), axis = 1),\n",
    "            'K': lambda df: df.apply(lambda lin: ((lin['hectare']*parametro[lin['cultura']]['semente_ha'])/1000) * (parametro[lin['cultura']]['k']/1000), axis = 1)\n",
    "        })\n",
    "        .drop('hectare', axis = 1)\n",
    "        .melt(\n",
    "            id_vars=['uf', 'ano', 'cultura', 'fonte'],\n",
    "            value_vars=['N', 'P', 'K'],\n",
    "            var_name='elemento',\n",
    "            value_name='valor'\n",
    "        )\n",
    "        # .convert_dtypes()\n",
    "        .groupby(['uf', 'ano', 'fonte', 'elemento'])\n",
    "        .agg({'valor': 'sum'})\n",
    "    #   .reset_index(level='elemento')\n",
    "    #   .sort_values(by=['elemento', 'uf'],\n",
    "    #                key=lambda x: x.map({'N': 0, 'P': 1, 'K': 2}))\n",
    "    .squeeze()\n",
    "      )\n",
    "\n",
    "df.to_csv(f'{raiz}/ouro_npk_sementes_ha.csv')\n",
    "\n",
    "df"
   ]
  }
 ],
 "metadata": {
  "kernelspec": {
   "display_name": "isagro (3.12.3)",
   "language": "python",
   "name": "python3"
  },
  "language_info": {
   "codemirror_mode": {
    "name": "ipython",
    "version": 3
   },
   "file_extension": ".py",
   "mimetype": "text/x-python",
   "name": "python",
   "nbconvert_exporter": "python",
   "pygments_lexer": "ipython3",
   "version": "3.12.3"
  }
 },
 "nbformat": 4,
 "nbformat_minor": 2
}
