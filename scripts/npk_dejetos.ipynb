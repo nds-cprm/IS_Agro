{
 "cells": [
  {
   "cell_type": "code",
   "execution_count": 2,
   "metadata": {},
   "outputs": [],
   "source": [
    "import pandas as pd\n",
    "\n",
    "from pendulum import now"
   ]
  },
  {
   "cell_type": "code",
   "execution_count": 3,
   "metadata": {},
   "outputs": [],
   "source": [
    "dataset_name = 'sidra_tab3939_dejetos'\n",
    "raiz = '../databases'"
   ]
  },
  {
   "cell_type": "markdown",
   "metadata": {},
   "source": [
    "### Bronze"
   ]
  },
  {
   "cell_type": "code",
   "execution_count": 4,
   "metadata": {},
   "outputs": [],
   "source": [
    "contador = 1\n",
    "ano_inicial = 1990\n",
    "\n",
    "ultimo_ano = now().year - 1\n",
    "for ano in range(ano_inicial, ultimo_ano):\n",
    "    if contador == 1:\n",
    "        df_3939 = pd.read_json(f'https://apisidra.ibge.gov.br/values/t/3939/n6/all/v/all/p/{ano}/c79/32793,32794,32796')\n",
    "        contador += 1\n",
    "    else:\n",
    "        df_3939 = pd.concat(\n",
    "            [df_3939,\n",
    "             (pd.read_json(f'https://apisidra.ibge.gov.br/values/t/3939/n6/all/v/all/p/{ano}/c79/32793,32794,32796')\n",
    "              .iloc[1:])],\n",
    "            ignore_index=True\n",
    "            )\n",
    "        contador += 1\n",
    "\n",
    "df_3939.to_json(f'{raiz}/bronze_{dataset_name}.json')"
   ]
  },
  {
   "cell_type": "markdown",
   "metadata": {},
   "source": [
    "### Prata"
   ]
  },
  {
   "cell_type": "markdown",
   "metadata": {},
   "source": [
    "|  CÓDIGO |        CULTURA        |\n",
    "|---------|-----------------------|\n",
    "| 32793   | Galináceos - galinhas |\n",
    "| 327930  | Galináceos - frangos  |\n",
    "| 32794   |  Suínos - total       |\n",
    "| 32796   | Galináceos - total    |"
   ]
  },
  {
   "cell_type": "code",
   "execution_count": 5,
   "metadata": {},
   "outputs": [
    {
     "name": "stderr",
     "output_type": "stream",
     "text": [
      "/tmp/ipykernel_15116/687714621.py:35: FutureWarning: The provided callable <built-in function sum> is currently using SeriesGroupBy.sum. In a future version of pandas, the provided callable will be used directly. To keep current behavior pass the string \"sum\" instead.\n",
      "  .agg({'kg_cabeca':sum})\n"
     ]
    }
   ],
   "source": [
    "df = (pd.read_json(f'{raiz}/bronze_{dataset_name}.json')\n",
    " .drop(0, axis = 0)\n",
    " .filter(['D1C', 'D3C', 'D4C', 'V'])\n",
    " .query('D4C in (\"32793\", \"32794\", \"32796\")')\n",
    " .reset_index(drop=True)\n",
    " .assign(**{\n",
    "     'V': lambda df: pd.to_numeric(df['V'], errors='coerce')\n",
    "     })\n",
    "    )\n",
    "\n",
    "df_frangos = (pd.DataFrame()\n",
    "             .assign(**{\n",
    "                 'D1C': df.iloc[1::3, 0].reset_index(drop=True),\n",
    "                 'D3C': df.iloc[1::3, 1].reset_index(drop=True),\n",
    "                 'D4C': '327930',\n",
    "                 'V': df.iloc[2::3, 3].reset_index(drop=True) - df.iloc[::3, 3].reset_index(drop=True)\n",
    "             })\n",
    "            )\n",
    "\n",
    "(pd.concat(\n",
    "    [df.query('D4C != \"32796\"'),\n",
    "     df_frangos]\n",
    "    )\n",
    " .assign(**{\n",
    "        'uf': lambda df: df['D1C'].str.slice(0,2).astype(int),\n",
    "        'kg_cabeca': lambda df: pd.to_numeric(df['V'], errors='coerce'),\n",
    "        'municipio': lambda df: df['D1C'].astype(int),\n",
    "        'ano': lambda df: df['D3C'].astype(int),\n",
    "        'cultura': lambda df: df['D4C'].astype(int),\n",
    "        'fonte': 'Dejetos'\n",
    "        })\n",
    " .dropna(subset='kg_cabeca')\n",
    " .convert_dtypes()\n",
    " .groupby(['uf', 'municipio', 'ano', 'cultura', 'fonte'])\n",
    " .agg({'kg_cabeca':sum})\n",
    " .to_parquet(f'{raiz}/prata_{dataset_name}.parquet')\n",
    " )"
   ]
  },
  {
   "cell_type": "markdown",
   "metadata": {},
   "source": [
    "### Ouro"
   ]
  },
  {
   "cell_type": "markdown",
   "metadata": {},
   "source": [
    "Cálculos:\n",
    "\n",
    "N: ((kg_cabeça * Teor N)/1000) * ((100 - perdas_N)/100)\n",
    "\n",
    "P, K: (kg_cabeca * Teor N, K)/1000"
   ]
  },
  {
   "cell_type": "code",
   "execution_count": 6,
   "metadata": {},
   "outputs": [],
   "source": [
    "parametro = {\n",
    "    32793: {'n': 0.58, 'p': 0.18, 'k': 0.21}, # de Galinhas\n",
    "    327930: {'n': 0.4, 'p': 0.12, 'k': 0.24}, # de Frangos\n",
    "    32794: {'n': 14.2, 'p': 2.3, 'k': 6.2}, # Suínos\n",
    "}\n",
    "\n",
    "# Perdas por volatilização do N\n",
    "perdas_N_galinaceos = 0\n",
    "perdas_N_suinos = 0"
   ]
  },
  {
   "cell_type": "code",
   "execution_count": 7,
   "metadata": {},
   "outputs": [
    {
     "name": "stderr",
     "output_type": "stream",
     "text": [
      "/tmp/ipykernel_15116/245983958.py:3: FutureWarning: The provided callable <built-in function sum> is currently using SeriesGroupBy.sum. In a future version of pandas, the provided callable will be used directly. To keep current behavior pass the string \"sum\" instead.\n",
      "  .agg({'kg_cabeca':sum})\n",
      "/tmp/ipykernel_15116/245983958.py:20: FutureWarning: The provided callable <built-in function sum> is currently using SeriesGroupBy.sum. In a future version of pandas, the provided callable will be used directly. To keep current behavior pass the string \"sum\" instead.\n",
      "  .agg({'valor':sum})\n"
     ]
    }
   ],
   "source": [
    "df = (pd.read_parquet(f'{raiz}/prata_{dataset_name}.parquet')\n",
    " .groupby(['uf', 'ano', 'cultura', 'fonte'])\n",
    " .agg({'kg_cabeca':sum})\n",
    " .reset_index()\n",
    " .assign(\n",
    "      N = lambda df: df.apply(lambda lin: ((lin['kg_cabeca'] * parametro[lin['cultura']]['n'])/1000) * ((100 - perdas_N_suinos)/100) \n",
    "          if lin['cultura'] == 32794 else\n",
    "          ((lin['kg_cabeca'] * parametro[lin['cultura']]['n'])/1000) * ((100 - perdas_N_galinaceos)/100), axis = 1),\n",
    "      P= lambda df: df.apply(lambda lin: (lin['kg_cabeca'] * parametro[lin['cultura']]['p'])/1000, axis = 1),\n",
    "      K= lambda df: df.apply(lambda lin: (lin['kg_cabeca'] * parametro[lin['cultura']]['k'])/1000, axis = 1),\n",
    "      fonte = lambda df: df['cultura'].apply(lambda x: 'Dejetos suínos' if x == 32794 else 'Dejetos galináceos')\n",
    "  )\n",
    " .drop('kg_cabeca', axis = 1)\n",
    " .melt(id_vars=['uf', 'ano', 'cultura', 'fonte'],\n",
    "       value_vars=['N', 'P', 'K'],\n",
    "       var_name='elemento',\n",
    "       value_name='valor')\n",
    " .convert_dtypes()\n",
    " .groupby(['uf', 'ano', 'fonte', 'elemento'])\n",
    " .agg({'valor':sum})\n",
    " .sort_index()\n",
    " )\n",
    "\n",
    "galinha_df = df.query('fonte == \"Dejetos galináceos\"').squeeze()\n",
    "galinha_df.to_csv(f'{raiz}/ouro_npk_dejetos_galinaceos.csv')\n",
    "\n",
    "suino_df = df.query('fonte == \"Dejetos suínos\"').squeeze()\n",
    "suino_df.to_csv(f'{raiz}/ouro_npk_dejetos_suinos.csv')"
   ]
  },
  {
   "cell_type": "code",
   "execution_count": 8,
   "metadata": {},
   "outputs": [
    {
     "data": {
      "text/plain": [
       "uf  ano   fonte               elemento\n",
       "11  1990  Dejetos galináceos  K           1279.06473\n",
       "                              N           2385.13818\n",
       "                              P            722.15094\n",
       "    1991  Dejetos galináceos  K           1470.24231\n",
       "                              N            2751.1967\n",
       "                                             ...    \n",
       "53  2022  Dejetos galináceos  N           3457.08388\n",
       "                              P             1049.457\n",
       "    2023  Dejetos galináceos  K           2081.96439\n",
       "                              N           3837.72238\n",
       "                              P           1160.91102\n",
       "Name: valor, Length: 2721, dtype: Float64"
      ]
     },
     "execution_count": 8,
     "metadata": {},
     "output_type": "execute_result"
    }
   ],
   "source": [
    "galinha_df"
   ]
  },
  {
   "cell_type": "code",
   "execution_count": 9,
   "metadata": {},
   "outputs": [
    {
     "data": {
      "text/plain": [
       "uf  ano   fonte           elemento\n",
       "11  1990  Dejetos suínos  K            5288.6744\n",
       "                          N           12112.7704\n",
       "                          P            1961.9276\n",
       "    1991  Dejetos suínos  K             6238.378\n",
       "                          N            14287.898\n",
       "                                         ...    \n",
       "53  2022  Dejetos suínos  N             2456.103\n",
       "                          P             397.8195\n",
       "    2023  Dejetos suínos  K             864.0692\n",
       "                          N            1978.9972\n",
       "                          P             320.5418\n",
       "Name: valor, Length: 2748, dtype: Float64"
      ]
     },
     "execution_count": 9,
     "metadata": {},
     "output_type": "execute_result"
    }
   ],
   "source": [
    "suino_df"
   ]
  }
 ],
 "metadata": {
  "kernelspec": {
   "display_name": "isagro (3.12.3)",
   "language": "python",
   "name": "python3"
  },
  "language_info": {
   "codemirror_mode": {
    "name": "ipython",
    "version": 3
   },
   "file_extension": ".py",
   "mimetype": "text/x-python",
   "name": "python",
   "nbconvert_exporter": "python",
   "pygments_lexer": "ipython3",
   "version": "3.12.3"
  },
  "orig_nbformat": 4
 },
 "nbformat": 4,
 "nbformat_minor": 2
}
