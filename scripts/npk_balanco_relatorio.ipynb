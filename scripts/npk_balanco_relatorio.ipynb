{
 "cells": [
  {
   "cell_type": "code",
   "execution_count": null,
   "id": "03100abd",
   "metadata": {},
   "outputs": [],
   "source": [
    "import pandas as pd\n",
    "from pathlib import Path\n",
    "from itertools import product"
   ]
  },
  {
   "cell_type": "code",
   "execution_count": null,
   "id": "b43a0183",
   "metadata": {},
   "outputs": [],
   "source": [
    "filename = Path('../databases/ouro_npk-balanco.parquet')\n",
    "index_cols = [\"fluxo\", \"fonte\", \"elemento\"]\n",
    "\n",
    "data = (\n",
    "    pd.read_parquet(filename)\n",
    "        .unstack(level=[\"ano\"]).droplevel([0], axis=\"columns\")\n",
    "        .reset_index(level=index_cols)\n",
    "        .join(\n",
    "            pd.read_parquet(\"../databases/prata_geocodigo_ibge.parquet\")\n",
    "                .loc[:, [\"UF-id\", \"UF-sigla\"]]\n",
    "                .drop_duplicates()\n",
    "                .rename(columns={\"UF-id\": \"id\", \"UF-sigla\": \"uf\"})\n",
    "                .set_index(\"id\")\n",
    "                .squeeze()\n",
    "        )\n",
    "        .set_index([\"uf\"] + index_cols)\n",
    ")\n",
    "\n",
    "data"
   ]
  },
  {
   "cell_type": "code",
   "execution_count": null,
   "id": "b622a94c",
   "metadata": {},
   "outputs": [],
   "source": [
    "elements = (\n",
    "    data.index\n",
    "        .get_level_values(\"elemento\")\n",
    "        .dropna()\n",
    "        .unique()\n",
    "        .tolist()\n",
    ")\n",
    "\n",
    "ufs = (\n",
    "    data.index\n",
    "        .get_level_values(\"uf\")\n",
    "        .dropna()\n",
    "        .unique()\n",
    "        .tolist()\n",
    ")\n",
    "\n",
    "# Por UF\n",
    "for element, uf in  product(elements, ufs):\n",
    "    out_xlsx = Path(f\"../databases/isagro_balanco_{element.lower()}.xlsx\")\n",
    "\n",
    "    if out_xlsx.exists():\n",
    "        kwargs = {\"mode\": \"a\", \"if_sheet_exists\": \"replace\"}\n",
    "    else:\n",
    "        kwargs = {\"mode\": \"w\"}\n",
    "\n",
    "    with pd.ExcelWriter(out_xlsx, engine=\"openpyxl\", **kwargs) as writer:\n",
    "        group = [\"uf\", \"elemento\"]\n",
    "        print(element, uf)\n",
    "\n",
    "        (\n",
    "            data.groupby(group)\n",
    "                .get_group((uf, element))\n",
    "                .droplevel(group)\n",
    "                .to_excel(writer, sheet_name=uf)\n",
    "        )\n",
    "\n",
    "# Nacional\n",
    "for element in elements:\n",
    "    out_xlsx = Path(f\"../databases/isagro_balanco_{element.lower()}.xlsx\")\n",
    "    \n",
    "    with pd.ExcelWriter(out_xlsx, engine=\"openpyxl\", mode=\"a\", if_sheet_exists=\"replace\") as writer:\n",
    "        (\n",
    "            data.groupby(index_cols)\n",
    "                .sum()\n",
    "                .groupby(\"elemento\")\n",
    "                .get_group(element)\n",
    "                .droplevel(\"elemento\")\n",
    "                .to_excel(writer, sheet_name=\"Brasil\")\n",
    "        )\n"
   ]
  }
 ],
 "metadata": {
  "kernelspec": {
   "display_name": "isagro (3.12.3)",
   "language": "python",
   "name": "python3"
  },
  "language_info": {
   "codemirror_mode": {
    "name": "ipython",
    "version": 3
   },
   "file_extension": ".py",
   "mimetype": "text/x-python",
   "name": "python",
   "nbconvert_exporter": "python",
   "pygments_lexer": "ipython3",
   "version": "3.12.3"
  }
 },
 "nbformat": 4,
 "nbformat_minor": 5
}
