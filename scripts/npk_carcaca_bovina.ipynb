{
 "cells": [
  {
   "cell_type": "code",
   "execution_count": null,
   "metadata": {},
   "outputs": [],
   "source": [
    "import pandas as pd"
   ]
  },
  {
   "cell_type": "code",
   "execution_count": null,
   "metadata": {},
   "outputs": [],
   "source": [
    "dataset_name = 'sidra_tab1092_bovino'\n",
    "raiz = '../databases'"
   ]
  },
  {
   "cell_type": "markdown",
   "metadata": {},
   "source": [
    "### Bronze"
   ]
  },
  {
   "cell_type": "code",
   "execution_count": null,
   "metadata": {},
   "outputs": [],
   "source": [
    "bronze_df = (\n",
    "    pd.read_json('https://apisidra.ibge.gov.br/values/t/1092/n3/all/v/285/p/199701-202504/c12716/115236/c18/992/c12529/118225')\n",
    ")\n",
    "\n",
    "bronze_df.to_json(f'{raiz}/bronze_{dataset_name}_uf.json')\n",
    "\n",
    "# (pd.read_json('https://apisidra.ibge.gov.br/values/t/1092/n1/all/v/285/p/last%2094/c12716/115236/c18/992/c12529/118225')\n",
    "#  .to_json(f'{raiz}/bronze_{dataset_name}_BR.json')\n",
    "#  )\n",
    "\n",
    "bronze_df.head()"
   ]
  },
  {
   "cell_type": "markdown",
   "metadata": {},
   "source": [
    "### Prata"
   ]
  },
  {
   "cell_type": "code",
   "execution_count": null,
   "metadata": {},
   "outputs": [],
   "source": [
    "silver_df = (\n",
    "    pd.read_json(f'{raiz}/bronze_{dataset_name}_uf.json')\n",
    "        .filter(['D1C', 'D3C', 'V'])\n",
    "        .drop(0, axis = 0)\n",
    "        .assign(**{\n",
    "            'ano': lambda tri: tri['D3C'].str.extract('(\\\\d{4})').astype(int),\n",
    "            'peso_kg': lambda df: pd.to_numeric(df['V'], errors='coerce'),\n",
    "            'uf': lambda df: df['D1C'].astype(int),\n",
    "            'fonte': 'Carcaça Bovina'\n",
    "        })\n",
    "        .dropna(subset='peso_kg')\n",
    "        .groupby(['uf', 'ano', 'fonte'])\n",
    "        .agg({'peso_kg': sum}) \n",
    " )\n",
    "\n",
    "silver_df.to_parquet(f'{raiz}/prata_{dataset_name}.parquet')\n",
    "\n",
    "silver_df.head()"
   ]
  },
  {
   "cell_type": "code",
   "execution_count": null,
   "metadata": {},
   "outputs": [],
   "source": [
    "# df_br = (pd.read_json(f'{raiz}/bronze_{dataset_name}_BR.json')\n",
    "#  .filter(['D1C', 'D3C', 'V'])\n",
    "#  .drop(0, axis = 0)\n",
    "#  .assign(**{'ano': lambda tri: tri['D3C'].str.extract('(\\\\d{4})').astype(int),\n",
    "#             'peso_kg': lambda df: pd.to_numeric(df['V'], errors='coerce'),\n",
    "#             'uf': lambda df: df['D1C'].astype(int),\n",
    "#             'fonte': 'Carcaça Bovina'\n",
    "#             })\n",
    "#  .groupby(['uf', 'ano', 'fonte'])\n",
    "#  .agg({'peso_kg': sum})\n",
    "#  )"
   ]
  },
  {
   "cell_type": "markdown",
   "metadata": {},
   "source": [
    "### Ouro"
   ]
  },
  {
   "cell_type": "markdown",
   "metadata": {},
   "source": [
    "Peso total de carcaças dos bovinos abatidos (kg)\n",
    "\n",
    "Aproveitamento da carcaça: 50%\n",
    "\n",
    "Cálculo: ((Carcaça Bovina/aproveitamento%) * (Parâmetro_x%))/1000\n",
    "\n",
    "UF e Brasil = t\n",
    "\n",
    "NPK na forma de Carne bovina retirada do solo via animal encaminhado para abate (t)"
   ]
  },
  {
   "cell_type": "code",
   "execution_count": null,
   "metadata": {},
   "outputs": [],
   "source": [
    "aproveitamento = 50/100\n",
    "\n",
    "parametro_N = 3/100\n",
    "parametro_P = 0.8/100\n",
    "parametro_K = 0.2/100"
   ]
  },
  {
   "cell_type": "code",
   "execution_count": null,
   "metadata": {},
   "outputs": [],
   "source": [
    "# valor em tonelada\n",
    "gold_df = (\n",
    "    pd.read_parquet(f'{raiz}/prata_{dataset_name}.parquet')\n",
    "        .assign(**{\n",
    "            'N': lambda df: ((df['peso_kg']/aproveitamento)*parametro_N)/1000,\n",
    "            'P': lambda df: ((df['peso_kg']/aproveitamento)*parametro_P)/1000,\n",
    "            'K': lambda df: ((df['peso_kg']/aproveitamento)*parametro_K)/1000\n",
    "        })\n",
    "        .drop(\n",
    "            \"peso_kg\", axis=\"columns\"\n",
    "        )\n",
    "        .stack()\n",
    "        .rename_axis((\"uf\", \"ano\", \"fonte\", \"elemento\"), axis=\"rows\")\n",
    "        .rename(\"valor\")\n",
    "        .sort_index()\n",
    "      # .reset_index()\n",
    "      # .melt(id_vars=['uf', 'ano', 'fonte'],\n",
    "      #       value_vars=['N', 'P', 'K'],\n",
    "      #       var_name='elemento',\n",
    "      #       value_name='valor')\n",
    "      # .convert_dtypes()\n",
    "      # .set_index(['uf', 'ano', 'fonte'])\n",
    ")\n",
    "\n",
    "gold_df.to_csv(f'{raiz}/ouro_npk_carcaca_bovina.csv')\n",
    "\n",
    "gold_df"
   ]
  }
 ],
 "metadata": {
  "kernelspec": {
   "display_name": "isagro (3.12.3)",
   "language": "python",
   "name": "python3"
  },
  "language_info": {
   "codemirror_mode": {
    "name": "ipython",
    "version": 3
   },
   "file_extension": ".py",
   "mimetype": "text/x-python",
   "name": "python",
   "nbconvert_exporter": "python",
   "pygments_lexer": "ipython3",
   "version": "3.12.3"
  },
  "orig_nbformat": 4
 },
 "nbformat": 4,
 "nbformat_minor": 2
}
