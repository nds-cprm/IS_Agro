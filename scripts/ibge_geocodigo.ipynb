{
 "cells": [
  {
   "cell_type": "code",
   "execution_count": 1,
   "metadata": {},
   "outputs": [],
   "source": [
    "# Importação de biblioteca\n",
    "import pandas as pd"
   ]
  },
  {
   "cell_type": "code",
   "execution_count": 2,
   "metadata": {},
   "outputs": [],
   "source": [
    "# Variáveis utilizadas\n",
    "fonte = 'ibge'\n",
    "dataset_name = 'geocodigo'\n",
    "raiz = '/home/eduardo/repositorios/IS_Agro/databases'"
   ]
  },
  {
   "attachments": {},
   "cell_type": "markdown",
   "metadata": {},
   "source": [
    "### Bronze"
   ]
  },
  {
   "cell_type": "code",
   "execution_count": 3,
   "metadata": {},
   "outputs": [],
   "source": [
    "# Download dos dados de códigos municipais e estaduais direto do IBGE\n",
    "df = (\n",
    "    pd.read_json('https://servicodados.ibge.gov.br/api/v1/localidades/municipios?view=nivelado')\n",
    "    .to_json(f'{raiz}/bronze_{fonte}_{dataset_name}.json')\n",
    " )"
   ]
  },
  {
   "attachments": {},
   "cell_type": "markdown",
   "metadata": {},
   "source": [
    "### Prata"
   ]
  },
  {
   "cell_type": "markdown",
   "metadata": {},
   "source": [
    "Página do IBGE com a relação completa dos códigos por município:\n",
    "https://www.ibge.gov.br/explica/codigos-dos-municipios.php\n",
    "\n",
    "| Estado                | Sigla | Código IBGE |\n",
    "|-----------------------|-------|-------------|\n",
    "| Rondônia              | RO    | 11          |\n",
    "| Acre                  | AC    | 12          |\n",
    "| Amazonas              | AM    | 13          |\n",
    "| Roraima               | RR    | 14          |\n",
    "| Pará                  | PA    | 15          |\n",
    "| Amapá                 | AP    | 16          |\n",
    "| Tocantins             | TO    | 17          |\n",
    "| Maranhão              | MA    | 21          |\n",
    "| Piauí                 | PI    | 22          |\n",
    "| Ceará                 | CE    | 23          |\n",
    "| Rio Grande do Norte   | RN    | 24          |\n",
    "| Paraíba               | PB    | 25          |\n",
    "| Pernambuco            | PE    | 26          |\n",
    "| Alagoas               | AL    | 27          |\n",
    "| Sergipe               | SE    | 28          |\n",
    "| Bahia                 | BA    | 29          |\n",
    "| Minas Gerais          | MG    | 31          |\n",
    "| Espírito Santo        | ES    | 32          |\n",
    "| Rio de Janeiro        | RJ    | 33          |\n",
    "| São Paulo             | SP    | 35          |\n",
    "| Paraná                | PR    | 41          |\n",
    "| Santa Catarina        | SC    | 42          |\n",
    "| Rio Grande do Sul     | RS    | 43          |\n",
    "| Mato Grosso do Sul    | MS    | 50          |\n",
    "| Mato Grosso           | MT    | 51          |\n",
    "| Goiás                 | GO    | 52          |\n",
    "| Distrito Federal      | DF    | 53          |"
   ]
  },
  {
   "cell_type": "code",
   "execution_count": 3,
   "metadata": {},
   "outputs": [],
   "source": [
    "# Tratamento dos dados\n",
    "df = (\n",
    "    pd.read_json(f'{raiz}/bronze_{fonte}_{dataset_name}.json')\n",
    "    .filter(['UF-id', 'UF-sigla', 'UF-nome', 'municipio-id', 'municipio-nome'])\n",
    "    .convert_dtypes()\n",
    " )\n",
    "\n",
    "#Exportação para .parquet\n",
    "#df.to_parquet(f'{raiz}/prata_{fonte}_{dataset_name}.parquet', index=False)"
   ]
  },
  {
   "cell_type": "code",
   "execution_count": 5,
   "metadata": {},
   "outputs": [],
   "source": [
    "df.to_csv(f'{raiz}/ouro_ibge_geocodigo.csv', index=False)"
   ]
  }
 ],
 "metadata": {
  "kernelspec": {
   "display_name": "venv",
   "language": "python",
   "name": "python3"
  },
  "language_info": {
   "codemirror_mode": {
    "name": "ipython",
    "version": 3
   },
   "file_extension": ".py",
   "mimetype": "text/x-python",
   "name": "python",
   "nbconvert_exporter": "python",
   "pygments_lexer": "ipython3",
   "version": "3.12.3"
  },
  "orig_nbformat": 4
 },
 "nbformat": 4,
 "nbformat_minor": 2
}
